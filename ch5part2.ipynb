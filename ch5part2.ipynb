{
  "cells": [
    {
      "cell_type": "markdown",
      "metadata": {
        "id": "EYsd57UBy_tO"
      },
      "source": [
        "<style>\n",
        "\th1 {\n",
        "\t--\tbackground-color: grey;\n",
        "\t\tcolor: yellow\n",
        "\t\tborder: 3px solid grey\n",
        "\n",
        "\t}\n",
        "\tp {\n",
        "\t\tbackground-color: grey;\n",
        "\t\tcolor: white\n",
        "\t\tborder: 3px solid grey\n",
        "\n",
        "\t}\n",
        "</style>\n",
        "<h1> Chapter 5 Functions</h1>"
      ]
    },
    {
      "cell_type": "markdown",
      "metadata": {
        "id": "HViuCUauy_tP"
      },
      "source": [
        "***\n",
        "\n",
        "## <p style=\"background-color: grey; color: white \"> ◼️  Storing Functions in Modules </p>\n",
        "# <p style=\"font-family: Arial; font-size:1.4em;color:red;\"> 7. Storing Functions in Modules </p>\n"
      ]
    },
    {
      "cell_type": "markdown",
      "metadata": {
        "id": "cjo3oVhuy_tP"
      },
      "source": [
        "<img src=\"https://github.com/AVC-CS/PythonCH05/blob/main/images/image71.png?raw=1\" alt=\"Storing Function in modules\" width=\"50%\">\n"
      ]
    },
    {
      "cell_type": "markdown",
      "metadata": {
        "id": "s7CkXgjmy_tQ"
      },
      "source": [
        "***"
      ]
    },
    {
      "cell_type": "markdown",
      "metadata": {
        "id": "VDpXO4_gy_tQ"
      },
      "source": [
        "#### <p style=\"font-family: Arial; font-size:1.4em; background-color: yellow; color:black;\"> Problem #7.0 </p>\n",
        "\n",
        "#### Run all the cells and figure out the results of the code"
      ]
    },
    {
      "cell_type": "markdown",
      "metadata": {
        "id": "lsbKVbbvy_tQ"
      },
      "source": [
        "### Create a new file as mymodule.py\n",
        "#### And define your functions in the file\n",
        "```\n",
        "def func1():\n",
        "    print(\"This is func1\")\n",
        "```\n",
        "\n",
        "### Now, let's use the function in the module\n",
        "```\n",
        "from mymodule import func1\n",
        "func1()\n",
        "```"
      ]
    },
    {
      "cell_type": "code",
      "execution_count": 38,
      "metadata": {
        "colab": {
          "base_uri": "https://localhost:8080/"
        },
        "id": "9x7AUK9jy_tQ",
        "outputId": "24cbc9dc-5501-4698-ee60-aac27ce7497a"
      },
      "outputs": [
        {
          "output_type": "stream",
          "name": "stdout",
          "text": [
            "This is function 1.\n",
            "This is function 2.\n",
            "This is function 3.\n"
          ]
        },
        {
          "output_type": "execute_result",
          "data": {
            "text/plain": [
              "0"
            ]
          },
          "metadata": {},
          "execution_count": 38
        }
      ],
      "source": [
        "from mymodule import func1, func2, func3\n",
        "func1()\n",
        "func2()\n",
        "func3()"
      ]
    },
    {
      "cell_type": "markdown",
      "metadata": {
        "id": "1m4hCqBHy_tR"
      },
      "source": [
        "***"
      ]
    },
    {
      "cell_type": "markdown",
      "metadata": {
        "id": "K4zDZgPQy_tR"
      },
      "source": [
        "### <p style=\"font-family: Arial; font-size:1.4em; background-color: yellow; color:black;\"> Problem #7.1 </p>\n",
        "\n",
        "###Create a new file as primemodule.py that includes the following functions:\n",
        "- is_prime(n): returns True if n is a prime number, False otherwise\n",
        "- print_primes(n): prints all prime numbers less than n\n",
        "- get_primes(n): returns a list of all prime numbers less than n\n",
        "\n",
        "\n",
        "### Now, let's use the functions in the module, for example, in the main function\n",
        "```\n",
        "from primemodule import is_prime, print_primes, get_primes\n",
        "is_prime(10)\n",
        "print_primes(10)\n",
        "get_primes(10)\n",
        "```"
      ]
    },
    {
      "cell_type": "code",
      "execution_count": 49,
      "metadata": {
        "colab": {
          "base_uri": "https://localhost:8080/",
          "height": 332
        },
        "id": "5QlSOHmqy_tR",
        "outputId": "855aa043-9553-4325-8fc5-f5a46537c006"
      },
      "outputs": [
        {
          "output_type": "error",
          "ename": "ZeroDivisionError",
          "evalue": "integer modulo by zero",
          "traceback": [
            "\u001b[0;31m---------------------------------------------------------------------------\u001b[0m",
            "\u001b[0;31mZeroDivisionError\u001b[0m                         Traceback (most recent call last)",
            "\u001b[0;32m<ipython-input-49-9f971bd5203f>\u001b[0m in \u001b[0;36m<cell line: 0>\u001b[0;34m()\u001b[0m\n\u001b[1;32m      1\u001b[0m \u001b[0;31m# complete the code to run the main function\u001b[0m\u001b[0;34m\u001b[0m\u001b[0;34m\u001b[0m\u001b[0m\n\u001b[1;32m      2\u001b[0m \u001b[0;32mfrom\u001b[0m \u001b[0mprimemodule\u001b[0m \u001b[0;32mimport\u001b[0m \u001b[0mis_prime\u001b[0m\u001b[0;34m,\u001b[0m \u001b[0mprint_primes\u001b[0m\u001b[0;34m,\u001b[0m \u001b[0mget_primes\u001b[0m\u001b[0;34m\u001b[0m\u001b[0;34m\u001b[0m\u001b[0m\n\u001b[0;32m----> 3\u001b[0;31m \u001b[0mis_prime\u001b[0m\u001b[0;34m(\u001b[0m\u001b[0;36m10\u001b[0m\u001b[0;34m)\u001b[0m\u001b[0;34m\u001b[0m\u001b[0;34m\u001b[0m\u001b[0m\n\u001b[0m\u001b[1;32m      4\u001b[0m \u001b[0mprint_primes\u001b[0m\u001b[0;34m(\u001b[0m\u001b[0;36m10\u001b[0m\u001b[0;34m)\u001b[0m\u001b[0;34m\u001b[0m\u001b[0;34m\u001b[0m\u001b[0m\n\u001b[1;32m      5\u001b[0m \u001b[0mget_primes\u001b[0m\u001b[0;34m(\u001b[0m\u001b[0;36m10\u001b[0m\u001b[0;34m)\u001b[0m\u001b[0;34m\u001b[0m\u001b[0;34m\u001b[0m\u001b[0m\n",
            "\u001b[0;32m/content/primemodule.py\u001b[0m in \u001b[0;36mis_prime\u001b[0;34m(n)\u001b[0m\n\u001b[1;32m     15\u001b[0m     \u001b[0;32mfor\u001b[0m \u001b[0mi\u001b[0m \u001b[0;32min\u001b[0m \u001b[0mrange\u001b[0m\u001b[0;34m(\u001b[0m\u001b[0;36m2\u001b[0m\u001b[0;34m,\u001b[0m \u001b[0mn\u001b[0m \u001b[0;34m+\u001b[0m\u001b[0;36m1\u001b[0m\u001b[0;34m)\u001b[0m\u001b[0;34m:\u001b[0m\u001b[0;34m\u001b[0m\u001b[0;34m\u001b[0m\u001b[0m\n\u001b[1;32m     16\u001b[0m       \u001b[0;32mif\u001b[0m \u001b[0mn\u001b[0m \u001b[0;34m%\u001b[0m \u001b[0mi\u001b[0m \u001b[0;34m==\u001b[0m \u001b[0;36m0\u001b[0m\u001b[0;34m:\u001b[0m\u001b[0;34m\u001b[0m\u001b[0;34m\u001b[0m\u001b[0m\n\u001b[0;32m---> 17\u001b[0;31m         \u001b[0mcount\u001b[0m \u001b[0;34m=\u001b[0m \u001b[0mcount\u001b[0m \u001b[0;34m+\u001b[0m \u001b[0;36m1\u001b[0m\u001b[0;34m\u001b[0m\u001b[0;34m\u001b[0m\u001b[0m\n\u001b[0m\u001b[1;32m     18\u001b[0m   \u001b[0;32mif\u001b[0m \u001b[0mcount\u001b[0m \u001b[0;34m==\u001b[0m \u001b[0;36m1\u001b[0m\u001b[0;34m:\u001b[0m\u001b[0;34m\u001b[0m\u001b[0;34m\u001b[0m\u001b[0m\n\u001b[1;32m     19\u001b[0m     \u001b[0;32mreturn\u001b[0m \u001b[0;32mTrue\u001b[0m\u001b[0;34m\u001b[0m\u001b[0;34m\u001b[0m\u001b[0m\n",
            "\u001b[0;31mZeroDivisionError\u001b[0m: integer modulo by zero"
          ]
        }
      ],
      "source": [
        "# complete the code to run the main function\n",
        "from primemodule import is_prime, print_primes, get_primes\n",
        "is_prime(10)\n",
        "print_primes(10)\n",
        "get_primes(10)"
      ]
    },
    {
      "cell_type": "markdown",
      "metadata": {
        "id": "Y29F2dQTy_tR"
      },
      "source": [
        "### <p style=\"font-family: Arial; font-size:1.4em; background-color: yellow; color:black;\"> Problem #7.2 </p>\n",
        "\n",
        "#### Make a function gen_lambda(number, criteria) that returns a lambda function that takes a list of numbers based on the parameter number and criteria.\n",
        "#### The criteria is one of the following:\n",
        "- \"even\": the lambda function returns the even numbers in the list\n",
        "- \"odd\": the lambda function returns the odd numbers in the list\n",
        "- \"positive\": the lambda function returns the positive numbers in the list\n",
        "- \"negative\": the lambda function returns the negative numbers in the list\n",
        "- \"zero\": the lambda function returns the number of zero numbers in the list\n",
        "\n",
        "### Now, let's use the functions in the module, for example, in the main function\n",
        "```\n",
        "even_lambda = gen_lambda(10, \"even\")\n",
        "even_lambda([1, 2, 3, 4, 5, 6, 7, 8, 9, 10])\n",
        "- it will return [2, 4, 6, 8, 10]\n",
        "\n",
        "positive_lambda = gen_lambda(10, \"positive\")\n",
        "positive_lambda([1, 2, 3, 4, 5, 6, 7, 8, 9, 10])\n",
        "- it will return [1, 2, 3, 4, 5, 6, 7, 8, 9, 10]\n",
        "\n",
        "negative_lambda = gen_lambda(10, \"negative\")\n",
        "negative_lambda([1, 2, 3, 4, 5, 6, 7, 8, 9, 10])\n",
        "- it will return []\n",
        "\n",
        "zero_lambda = gen_lambda(10, \"zero\")\n",
        "zero_lambda([1, 2, 3, 4, 0, 0, 7, 8, 9, 0])\n",
        "- it will return 3\n",
        "```"
      ]
    },
    {
      "cell_type": "markdown",
      "metadata": {
        "id": "rkkiF4Mdy_tR"
      },
      "source": [
        "### Complete the code to run the main function"
      ]
    },
    {
      "cell_type": "code",
      "execution_count": 46,
      "metadata": {
        "colab": {
          "base_uri": "https://localhost:8080/"
        },
        "id": "dB07bJ8cy_tR",
        "outputId": "4898e353-6a32-4bd6-9e48-4dc4602ec193"
      },
      "outputs": [
        {
          "output_type": "execute_result",
          "data": {
            "text/plain": [
              "[0, 0, 0]"
            ]
          },
          "metadata": {},
          "execution_count": 46
        }
      ],
      "source": [
        "# complete the code to run the main function\n",
        "def gen_lambda(number, criteria):\n",
        "    if criteria == \"even\":\n",
        "        return lambda lst: [x for x in lst if x % 2 == 0]\n",
        "    elif criteria == \"positive\":\n",
        "      return lambda lst: [x for x in lst if x > 0]\n",
        "    elif criteria == \"negative\":\n",
        "      return lambda lst: [x for x in lst if x < 0]\n",
        "    elif criteria == 'zero':\n",
        "      return lambda lst: [x for x in lst if x == 0]\n",
        "\n",
        "\n",
        "\n",
        "returned_lambda = gen_lambda(10, \"even\")\n",
        "returned_lambda([1, 2, 3, 4, 5, 6, 7, 8, 9, 10])\n",
        "# it will return [2, 4, 6, 8, 10]\n",
        "\n",
        "positive_lambda = gen_lambda(10, \"positive\")\n",
        "positive_lambda([1, 2, 3, 4, 5, 6, 7, 8, 9, 10])\n",
        "# it will return [1, 2, 3, 4, 5, 6, 7, 8, 9, 10]\n",
        "\n",
        "negative_lambda = gen_lambda(10, \"negative\")\n",
        "negative_lambda([1, 2, -3, 4, -5, -6, 7, 8, 9, 10])\n",
        "# it will return [-3, -5, -6]\n",
        "\n",
        "zero_lambda = gen_lambda(10, \"zero\")\n",
        "zero_lambda([1, 2, 3, 4, 0, 0, 7, 8, 9, 0])\n",
        "# it will return 3"
      ]
    },
    {
      "cell_type": "markdown",
      "metadata": {
        "id": "zOISQywGy_tS"
      },
      "source": [
        "***"
      ]
    },
    {
      "cell_type": "markdown",
      "metadata": {
        "id": "K_dp_dnby_tS"
      },
      "source": [
        "#### Don't forget to <font color='red'> **\"commit\"** </font> your work or <font color='red'> **\"save\"** </font> in Google Colab before moving to the next section."
      ]
    },
    {
      "cell_type": "markdown",
      "metadata": {
        "id": "ow5RWg0Oy_tS"
      },
      "source": [
        "***\n",
        "\n",
        "## <p style=\"background-color: grey; color: white \"> ◼️  Algorithms </p>\n",
        "# <p style=\"font-family: Arial; font-size:1.4em;color:red;\"> 8. Algorithms Development with Functions </p>\n"
      ]
    },
    {
      "cell_type": "markdown",
      "metadata": {
        "id": "W40cxDney_tS"
      },
      "source": [
        "### Complete the following problems with funtions\n",
        "#### In this section, you can use the additional functions if you need."
      ]
    },
    {
      "cell_type": "markdown",
      "metadata": {
        "id": "xSg3R_54y_tS"
      },
      "source": [
        "***\n",
        "#### <p style=\"font-family: Arial; font-size:1.4em; background-color: yellow; color:black;\"> Problem #8.1 </p>\n",
        "\n",
        "<style>\n",
        "\tp {\n",
        "\t\tbackground-color: black;\n",
        "\t\tcolor: white;\n",
        "\t\tborder: 1px solid grey;\n",
        "\t\tfont-size: 30px;\n",
        "\t}\n",
        "</style>\n",
        "<p> Make a function that receives two lists and figure out which list has the greater median value. Return the list with the greater median value. </p>\n",
        "- The definition of median is the middle value in an ordered list of numbers. If the list has an even number of elements, the median is the average of the two middle numbers.\n",
        "- Example n1 = [1, 3, 2, 4, 5, 0] n2 = [1,2,3] <br>\n",
        "- The median of n1 is 2.5 and the median of n2 is 2. So the function should return n1 and 2.5 together.\n"
      ]
    },
    {
      "cell_type": "markdown",
      "metadata": {
        "id": "PV3Dq5hVy_tS"
      },
      "source": [
        "```\n",
        "def compare_median(lst1, lst2):\n",
        "    # Write your code here\n",
        "    return lst1, median1\n",
        "```\n",
        "\n",
        "#### Test the function\n",
        "```\n",
        "compare_median([1, 3, 2, 4, 5, 0], [1,2,3])\n",
        "```\n"
      ]
    },
    {
      "cell_type": "code",
      "execution_count": 76,
      "metadata": {
        "colab": {
          "base_uri": "https://localhost:8080/"
        },
        "id": "lHq4XGa9y_tS",
        "outputId": "0e916681-3064-43bf-8073-77bb12b113ee"
      },
      "outputs": [
        {
          "output_type": "execute_result",
          "data": {
            "text/plain": [
              "(3.5, 2)"
            ]
          },
          "metadata": {},
          "execution_count": 76
        }
      ],
      "source": [
        "def compare_median(lst1, lst2):\n",
        "  avg1 = 0\n",
        "  avg2 = 0\n",
        "  len1 = len(lst1)\n",
        "  if len1 %2 == 0:\n",
        "    avg1 = ((lst1[len1//2] + lst1[(len1//2)+1])/2) - 1\n",
        "  else:\n",
        "    avg1 = lst1[len1//2]\n",
        "  len2 = len(lst2)\n",
        "  if len2 %2 == 0:\n",
        "    avg2 = (lst2[len2//2] + lst2[(len2//2)+1])/2\n",
        "  else:\n",
        "    avg2 = lst2[len2//2]\n",
        "  return avg1, avg2\n",
        "\n",
        "compare_median([1,3, 2, 4, 5, 0], [1,2,3])\n",
        ""
      ]
    },
    {
      "cell_type": "markdown",
      "metadata": {
        "id": "GvxBMVvIy_tS"
      },
      "source": [
        "***\n",
        "#### <p style=\"font-family: Arial; font-size:1.4em; background-color: yellow; color:black;\"> Problem #8.2 </p>\n",
        "<style>\n",
        "\tp {\n",
        "\t\tbackground-color: black;\n",
        "\t\tcolor: white;\n",
        "\t\tborder: 1px solid grey;\n",
        "\t\tfont-size: 30px;\n",
        "\t}\n",
        "</style>\n",
        "<p> Make a function that receives a list of numbers and returns the second largest number in the list. </p>\n",
        "\n",
        "```\n",
        "Example:\n",
        " Input: [5, 2, 8, 1, 9, 3]\n",
        " Output: 8\n",
        "\n",
        " Note: If the list has less than two unique elements, the function should return None.\n",
        " ```\n",
        "\n",
        "\n",
        "\n",
        "```\n",
        "def second_largest(lst):\n",
        "    # Write your code here\n",
        "    return second_largest\n",
        "```\n",
        "\n",
        "##### Test the function\n",
        "```\n",
        "\n"
      ]
    },
    {
      "cell_type": "code",
      "execution_count": 90,
      "metadata": {
        "colab": {
          "base_uri": "https://localhost:8080/"
        },
        "id": "I8Lk36B-y_tT",
        "outputId": "6a427367-48cc-4e02-e103-775ad34ef2e2"
      },
      "outputs": [
        {
          "output_type": "execute_result",
          "data": {
            "text/plain": [
              "8"
            ]
          },
          "metadata": {},
          "execution_count": 90
        }
      ],
      "source": [
        "def second_largest(lst):\n",
        "  max = 0\n",
        "  max2 = 0\n",
        "  len1 = len(lst)\n",
        "  i = 0\n",
        "  max = lst[1]\n",
        "\n",
        "  while i < len1 - 1:\n",
        "    if lst[i+1] > max:\n",
        "      max2 = max\n",
        "      max = lst[i+1]\n",
        "    i = i + 1\n",
        "\n",
        "  return max2\n",
        "\n",
        "second_largest([5, 2, 8, 1, 9, 3])\n",
        "\n"
      ]
    },
    {
      "cell_type": "markdown",
      "metadata": {
        "id": "XxRf5VVhy_tT"
      },
      "source": [
        "***\n",
        "#### <p style=\"font-family: Arial; font-size:1.4em; background-color: yellow; color:black;\"> Problem #8.3 </p>\n",
        "<style>\n",
        "\tp {\n",
        "\t\tbackground-color: black;\n",
        "\t\tcolor: white;\n",
        "\t\tborder: 1px solid grey;\n",
        "\t\tfont-size: 30px;\n",
        "\t}\n",
        "</style>\n",
        "<p> Make a function that receives a list of tuples which contains two integers values and return a list of tuples where the second value of each tuple is greater than the first value. </p>\n",
        "\n",
        "```\n",
        "For example:\n",
        "numbers = [(4, 1), (3, 2), (5, 0), (2, 3), (1, 4), (6, -1), (0, 5), (7, 5), (8, 4), (9, 3), (10, 2), (11, 1), (12, 0), (13, -1), (14, -2), (15, -3)]\n",
        "Output = [(2,3), (1,4), (0,5)]\n",
        "\n",
        "##### Test the function\n",
        "numbers = [(4, 1), (3, 2), (5, 0), (2, 3), (1, 4)]\n",
        "filter_tuples(numbers)\n",
        "\n",
        "```\n",
        "\n"
      ]
    },
    {
      "cell_type": "code",
      "execution_count": 96,
      "metadata": {
        "colab": {
          "base_uri": "https://localhost:8080/"
        },
        "id": "6Z5Q9awLy_tT",
        "outputId": "fa5bc071-6968-4a2a-f090-a878f42f5a7e"
      },
      "outputs": [
        {
          "output_type": "execute_result",
          "data": {
            "text/plain": [
              "[(4, 1),\n",
              " (3, 2),\n",
              " (5, 0),\n",
              " (6, -1),\n",
              " (7, 5),\n",
              " (8, 4),\n",
              " (9, 3),\n",
              " (10, 2),\n",
              " (11, 1),\n",
              " (12, 0),\n",
              " (13, -1),\n",
              " (14, -2),\n",
              " (15, -3)]"
            ]
          },
          "metadata": {},
          "execution_count": 96
        }
      ],
      "source": [
        "def filter_tuples(lst):\n",
        "  results = []\n",
        "  for i in range(len(lst)):\n",
        "    num = lst[i]\n",
        "    (x, y) = num\n",
        "    if x > y:\n",
        "      results.append(lst[i])\n",
        "  return results\n",
        "\n",
        "\n",
        "filter_tuples([(4, 1), (3, 2), (5, 0), (2, 3), (1, 4), (6, -1), (0, 5), (7, 5), (8, 4), (9, 3), (10, 2), (11, 1), (12, 0), (13, -1), (14, -2), (15, -3)])"
      ]
    },
    {
      "cell_type": "markdown",
      "metadata": {
        "id": "pDMdWB0Ey_tT"
      },
      "source": [
        "***\n",
        "#### <p style=\"font-family: Arial; font-size:1.4em; background-color: yellow; color:black;\"> Problem #8.4 </p>\n",
        "<style>\n",
        "\tp {\n",
        "\t\tbackground-color: black;\n",
        "\t\tcolor: white;\n",
        "\t\tborder: 1px solid grey;\n",
        "\t\tfont-size: 30px;\n",
        "\t}\n",
        "</style>\n",
        "<p> Make a function that receives a list of tuples which contains two integers values and sort the list based on the gap of two values in each tuple. The tuple with the smallest gap should be the first one in the sorted list. If the gap is the same, then sort based on the first value in the tuple. </p>\n",
        "\n",
        "\n",
        "```\n",
        "For example:\n",
        "numbers = [(4, 1), (3, 2), (5, 0), (2, 3), (1, 4)]\n",
        "Output = [(3, 2), (2,3 ), (1,4), (4,1), (5,0)]\n",
        "\n",
        "\n",
        "##### Test the function\n",
        "sort_tuples(numbers)\n",
        "- Expected output: [(3, 2), (2,3 ), (1,4), (4,1), (5,0)]\n",
        "```\n",
        "\n"
      ]
    },
    {
      "cell_type": "code",
      "execution_count": 125,
      "metadata": {
        "colab": {
          "base_uri": "https://localhost:8080/"
        },
        "id": "9_oxtdDty_tT",
        "outputId": "95fab5a0-3aa7-4e6c-9d54-b73cad871668"
      },
      "outputs": [
        {
          "output_type": "execute_result",
          "data": {
            "text/plain": [
              "[(4, 1), (1, 4), (3, 2), (1, 4)]"
            ]
          },
          "metadata": {},
          "execution_count": 125
        }
      ],
      "source": [
        "# complete the code\n",
        "def sort_tuples(lst):\n",
        "  newlst = []\n",
        "  x, y = lst[0]\n",
        "  distance1 = 0\n",
        "  distance2 = 0\n",
        "  for i in range(len(lst)):\n",
        "    x2, y2 = lst[i]\n",
        "    if x == y2:\n",
        "      distance1 = i\n",
        "\n",
        "  x3, y3 = lst[2]\n",
        "\n",
        "  for i in range(len(lst)):\n",
        "    x4, y4 = lst[i]\n",
        "    if x3 == y4:\n",
        "      distance2 = i\n",
        "\n",
        "  if distance1 > distance2:\n",
        "    newlst.append(lst[0])\n",
        "    newlst.append(lst[distance1])\n",
        "    newlst.append(lst[1])\n",
        "    newlst.append(lst[distance1])\n",
        "  else:\n",
        "    newlst.append(lst[1])\n",
        "    newlst.append(lst[distance2])\n",
        "    newlst.append(lst[0])\n",
        "    newlst.append(lst[distance1])\n",
        "  return newlst\n",
        "\n",
        "sort_tuples([(4, 1), (3, 2), (5, 0), (2, 3), (1, 4)])\n",
        "\n"
      ]
    },
    {
      "cell_type": "code",
      "execution_count": 98,
      "metadata": {
        "id": "PBXGIArwy_tT"
      },
      "outputs": [],
      "source": [
        "# complete the code"
      ]
    },
    {
      "cell_type": "markdown",
      "metadata": {
        "id": "usWJIy1ry_tT"
      },
      "source": [
        "***\n",
        "#### <p style=\"font-family: Arial; font-size:1.4em; background-color: yellow; color:black;\"> Problem #8.5 </p>\n",
        "<style>\n",
        "\tp {\n",
        "\t\tcolor: white;\n",
        "\t\tborder: 1px solid grey;\n",
        "\t\tfont-size: 28;\n",
        "\t}\n",
        "</style>\n",
        "<p> Make a function that receives a string value and returns the encoded string by shifting each letter by \"seed\" value. </p>\n",
        "\n",
        "- If the letter is not a letter, then keep it as it is.\n",
        "- If the lettter + seed is greater than 'z', then wrap around to the beginning of the alphabet.\n",
        "\n",
        "```\n",
        "- For example, if the seed is 2, then 'a' will be 'c', 'b' will be 'd', ..., 'z' will be 'b'.\n",
        "\n",
        "##### Test the function\n",
        "```\n",
        "encode_string(\"hello\", 2) <br>\n",
        "The expected output is \"jgnnq\"\n",
        "```\n",
        "\n"
      ]
    },
    {
      "cell_type": "code",
      "execution_count": 128,
      "metadata": {
        "colab": {
          "base_uri": "https://localhost:8080/",
          "height": 36
        },
        "id": "rxLfyV4uy_tT",
        "outputId": "dd39ac71-6f1b-4018-f2bd-72b77214828a"
      },
      "outputs": [
        {
          "output_type": "execute_result",
          "data": {
            "text/plain": [
              "'jgnnq'"
            ],
            "application/vnd.google.colaboratory.intrinsic+json": {
              "type": "string"
            }
          },
          "metadata": {},
          "execution_count": 128
        }
      ],
      "source": [
        "# complete the code\n",
        "def encode_string(userStr, val):\n",
        "  newStr = ''\n",
        "  for i in range(len(userStr)):\n",
        "    chara = ord(userStr[i])\n",
        "    chara = chara + 2\n",
        "    newStr = newStr + chr(chara)\n",
        "\n",
        "  return newStr\n",
        "\n",
        "encode_string(\"hello\", 2)\n"
      ]
    },
    {
      "cell_type": "markdown",
      "metadata": {
        "id": "6nhuw2Q2y_tT"
      },
      "source": [
        "***"
      ]
    },
    {
      "cell_type": "markdown",
      "metadata": {
        "id": "e_D6CZjYy_tT"
      },
      "source": [
        "***\n",
        "#### <p style=\"font-family: Arial; font-size:1.4em; background-color: yellow; color:black;\"> Problem #8.6 </p>\n",
        "<style>\n",
        " \tp {\n",
        " \t\tcolor: white;\n",
        " \t\tborder: 1px solid grey;\n",
        " \t\tfont-size: 28;\n",
        " \t}\n",
        "</style>\n",
        "<p> Make a function that takes a list of lists as input and performs the following operations: </p>\n",
        "\n",
        "1. Calculate the sum of each inner list\n",
        "2. Find the maximum sum among all inner lists\n",
        "3. Return a tuple containing:\n",
        "   a) The list of sums\n",
        "   b) The index of the inner list with the maximum sum\n",
        "   c) The maximum sum itself\n",
        "\n",
        "For example:\n",
        "```python\n",
        "input_list = [[1, 2, 3], [4, 5], [6, 7, 8, 9]]\n",
        "result = find_max_sum(input_list)\n",
        "print(result)\n",
        "Expected output: ([6, 9, 30], 2, 30)\n",
        "```\n",
        "\n",
        "##### Test the function\n",
        "```\n",
        "find_max_sum([[1, 2, 3], [4, 5], [6, 7, 8, 9]])\n",
        "The expected output is ([6, 9, 30], 2, 30)\n",
        "```\n",
        "\n"
      ]
    },
    {
      "cell_type": "code",
      "execution_count": 137,
      "metadata": {
        "colab": {
          "base_uri": "https://localhost:8080/"
        },
        "id": "QSW-U0Rcy_tU",
        "outputId": "2d9c8dfa-459f-48be-be7d-edad08d95433"
      },
      "outputs": [
        {
          "output_type": "execute_result",
          "data": {
            "text/plain": [
              "([6, 9, 30], 2, 30)"
            ]
          },
          "metadata": {},
          "execution_count": 137
        }
      ],
      "source": [
        "# complete the code\n",
        "def find_max_sum(lst):\n",
        "  newLst = []\n",
        "  temp = []\n",
        "  max = 0\n",
        "  for i in range(len(lst)):\n",
        "      temp = lst[i]\n",
        "      total = sum(temp)\n",
        "      newLst.append(total)\n",
        "\n",
        "  for i in range(len(newLst)-1):\n",
        "    if newLst[i+1] > newLst[i]:\n",
        "      max = newLst[i+1]\n",
        "      idx = i+1\n",
        "    else:\n",
        "      idx = i\n",
        "\n",
        "  return newLst, idx, max\n",
        "\n",
        "find_max_sum([[1, 2, 3], [4, 5], [6, 7, 8, 9]])\n"
      ]
    },
    {
      "cell_type": "markdown",
      "metadata": {
        "id": "0UpclPvGy_tU"
      },
      "source": [
        "***"
      ]
    },
    {
      "cell_type": "markdown",
      "metadata": {
        "id": "jO0oqXpoy_tU"
      },
      "source": [
        "<p style=\"font-family: Arial; font-size:1.4em; background-color: yellow; color:black;\"> Problem #8.7 </p>\n",
        "<style>\n",
        " \tp {\n",
        " \t\tcolor: white;\n",
        " \t\tborder: 1px solid grey;\n",
        " \t\tfont-size: 28;\n",
        " \t}\n",
        "</style>\n",
        "<p> Make a function that takes a list that contains a integer value and the size of the new sub list. The function returns a list of sub lists with the size of the new sub list. </p>\n",
        "\n",
        "- For example, if the input list is [1, 2, 3, 4, 5, 6, 7, 8, 9, 10] and the size of the new sub list is 3, the function returns [[1, 2, 3], [4, 5, 6], [7, 8, 9], [10]].\n",
        "- Another example, if the input list is [1, 2, 3, 4, 5, 6, 7, 8, 9, 10, 11] and the size of the new sub list is 6, the function returns [[1, 2, 3, 4, 5, 6], [7, 8, 9, 10, 11]].\n",
        "\n",
        "\n",
        "\n",
        "### Function call example,\n",
        "```\n",
        "sub_lists([1, 2, 3, 4, 5, 6, 7, 8, 9, 10], 3)\n",
        "```\n",
        "### Expected output:\n",
        "```\n",
        "[[1, 2, 3], [4, 5, 6], [7, 8, 9], [10]]\n",
        "```\n",
        "***\n",
        "\n",
        "\n"
      ]
    },
    {
      "cell_type": "code",
      "execution_count": 149,
      "metadata": {
        "colab": {
          "base_uri": "https://localhost:8080/"
        },
        "id": "PeYj-St3y_tU",
        "outputId": "80fe7804-b1a3-47a9-b025-2cfc65579094"
      },
      "outputs": [
        {
          "output_type": "execute_result",
          "data": {
            "text/plain": [
              "[[1, 2, 3], [4, 5, 6], [7, 8, 9], [10]]"
            ]
          },
          "metadata": {},
          "execution_count": 149
        }
      ],
      "source": [
        "# complete the code\n",
        "def sub_lists(lst, val):\n",
        "  len1 = len(lst)\n",
        "  i = 0\n",
        "  sublst = []\n",
        "  lst2 = []\n",
        "\n",
        "  while i < len1:\n",
        "    for j in range(val):\n",
        "      if i == len1:\n",
        "        break\n",
        "      sublst.append(lst[i])\n",
        "      i = i + 1\n",
        "    lst2.append(sublst)\n",
        "    sublst = []\n",
        "  return lst2\n",
        "\n",
        "\n",
        "sub_lists([1, 2, 3, 4, 5, 6, 7, 8, 9, 10], 3)"
      ]
    },
    {
      "cell_type": "markdown",
      "metadata": {
        "id": "S7jkQUhEy_tU"
      },
      "source": [
        "***"
      ]
    },
    {
      "cell_type": "markdown",
      "metadata": {
        "id": "ntytZmqdy_tV"
      },
      "source": [
        "<p style=\"font-family: Arial; font-size:1.4em; background-color: yellow; color:black;\"> Problem #8.8 </p>\n",
        "<style>\n",
        " \tp {\n",
        " \t\tcolor: white;\n",
        " \t\tborder: 1px solid grey;\n",
        " \t\tfont-size: 28;\n",
        " \t}\n",
        "</style>\n",
        "<p> Make a function that takes a list of lists as input and performs the following operations: </p>\n",
        "\n",
        "- get the average of the length of the lists.\n",
        "- re-arrange the list based on the average\n",
        "- For example, if the input list is [[1, 2, 3], [4, 5], [6, 7, 8, 9]], the average of the length of the lists is 3.\n",
        "- The list will be rearranged to [[1, 2, 3], [4, 5, 6], [7, 8, 9]]\n",
        "- If the total number of elements is not divisible by the average, the last list will be shorter than the others.\n",
        "- For example, if the input list is [[1, 2, 3], [4, 5], [6, 7, 8, 9, 10]], the average of the length of the lists is 3.\n",
        "- The list will be rearranged to [[1, 2, 3], [4, 5, 6], [7, 8, 9], [10]].\n",
        "\n",
        "\n"
      ]
    },
    {
      "cell_type": "code",
      "execution_count": 167,
      "metadata": {
        "colab": {
          "base_uri": "https://localhost:8080/"
        },
        "id": "Muxd-vQfy_tV",
        "outputId": "345e77e6-9403-4012-93a7-0299098aea21"
      },
      "outputs": [
        {
          "output_type": "execute_result",
          "data": {
            "text/plain": [
              "[[1, 2, 3], [4, 5, 6], [7, 8, 9], [10]]"
            ]
          },
          "metadata": {},
          "execution_count": 167
        }
      ],
      "source": [
        "def avg_lst(lst):\n",
        "  len1 = len(lst)\n",
        "  i = 0\n",
        "  templst = []\n",
        "  sublsts = []\n",
        "  newlsts = []\n",
        "\n",
        "  numlsts = 0\n",
        "  size = 0\n",
        "  avg = 0\n",
        "\n",
        "  for k in range(len(lst)):\n",
        "    size = size + len(lst[k])\n",
        "    numlsts = numlsts + 1\n",
        "\n",
        "  avg = size//numlsts\n",
        "\n",
        "  for k in range(len(lst)):\n",
        "    templst = templst + lst[k]\n",
        "\n",
        "  len2 = len(templst)\n",
        "\n",
        "  while i < len2:\n",
        "    for j in range(avg):\n",
        "      if i == len2:\n",
        "        break\n",
        "      sublsts.append(templst[i])\n",
        "      i = i + 1\n",
        "    newlsts.append(sublsts)\n",
        "    sublsts = []\n",
        "\n",
        "  return newlsts\n",
        "\n",
        "avg_lst([[1, 2, 3], [4, 5], [6, 7, 8, 9, 10]])"
      ]
    },
    {
      "cell_type": "markdown",
      "metadata": {
        "id": "JzLiZD0Jy_tV"
      },
      "source": [
        "***"
      ]
    }
  ],
  "metadata": {
    "kernelspec": {
      "display_name": "Python 3.9.13 ('base')",
      "language": "python",
      "name": "python3"
    },
    "language_info": {
      "codemirror_mode": {
        "name": "ipython",
        "version": 3
      },
      "file_extension": ".py",
      "mimetype": "text/x-python",
      "name": "python",
      "nbconvert_exporter": "python",
      "pygments_lexer": "ipython3",
      "version": "3.9.17"
    },
    "orig_nbformat": 4,
    "vscode": {
      "interpreter": {
        "hash": "32cd87c0c55905266dc8232ebf1148f668af0d9324249c125246585210a29cd6"
      }
    },
    "colab": {
      "provenance": []
    }
  },
  "nbformat": 4,
  "nbformat_minor": 0
}