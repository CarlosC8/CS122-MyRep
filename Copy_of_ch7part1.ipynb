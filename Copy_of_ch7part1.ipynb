{
  "cells": [
    {
      "cell_type": "markdown",
      "metadata": {
        "id": "H3ZLL0FIKNVw"
      },
      "source": [
        "<style>\n",
        "\th1 {\n",
        "\t--\tbackground-color: grey;\n",
        "\t\tcolor: yellow\n",
        "\t\tborder: 3px solid grey\n",
        "\n",
        "\t}\n",
        "\tp {\n",
        "\t\tbackground-color: grey;\n",
        "\t\tcolor: white\n",
        "\t\tborder: 3px solid grey\n",
        "\n",
        "\t}\n",
        "</style>\n",
        "<h1> Chapter 7 List: Part 1</h1>"
      ]
    },
    {
      "cell_type": "markdown",
      "metadata": {
        "id": "tLmeJbGpKNVy"
      },
      "source": [
        "<p style=\"margin-left:40px\"> 7.1 Basic Examples of List</p>\n",
        "\n",
        "<p style=\"margin-left:40px\"> 7.2 Understanding the \"Mutable Data Type\" </p>\n",
        "\n",
        "<p style=\"margin-left:40px\"> 7.3 Handing the list index out of range error </p>\n",
        "\n",
        "<p style=\"margin-left:40px\"> 7.4 List of List </p>\n",
        "\n",
        "<p style=\"margin-left:40px\"> 7.5 any() and all() </p>\n"
      ]
    },
    {
      "cell_type": "markdown",
      "metadata": {
        "id": "3uJHY-cjKNVy"
      },
      "source": [
        "***\n",
        "\n",
        "## <p style=\"background-color: grey; color: white \"> ◼️  List </p>\n",
        "# <p style=\"font-family: Arial; font-size:1.4em;color:red;\"> 1. Basic Examples of List</p>\n"
      ]
    },
    {
      "cell_type": "markdown",
      "metadata": {
        "id": "bzVLXB_5KNVz"
      },
      "source": [
        "<style>\n",
        "\th3{\n",
        "\t\tbackground-color: grey\n",
        "\t\tcolor: white\n",
        "\t}\n",
        "</style>\n",
        "\n",
        "<h1> Understanding the \"Mutable Data Type\"  </h1>\n",
        "\n",
        "- Run all the following code cells and check out the result of code segments"
      ]
    },
    {
      "cell_type": "markdown",
      "metadata": {
        "id": "3lpQaQpfKNVz"
      },
      "source": [
        "#### <p style=\"font-family: Arial; font-size:1.4em; background-color: yellow; color:black;\"> Problem #1.0 </p>\n",
        "\n",
        "#### Run all the cells and figure out the Mutal Data Type"
      ]
    },
    {
      "cell_type": "markdown",
      "metadata": {
        "id": "1a3MC0i-KNVz"
      },
      "source": [
        "### What is the value of numbers1 after run the following code cell?"
      ]
    },
    {
      "cell_type": "code",
      "execution_count": null,
      "metadata": {
        "id": "tuZ0MHx9KNV0",
        "colab": {
          "base_uri": "https://localhost:8080/"
        },
        "outputId": "bc5dd009-0e08-45a4-db22-97a1ed340c2d"
      },
      "outputs": [
        {
          "output_type": "execute_result",
          "data": {
            "text/plain": [
              "[6, 7]"
            ]
          },
          "metadata": {},
          "execution_count": 1
        }
      ],
      "source": [
        "numbers1 = [1,2,3,4,5,6,7]\n",
        "numbers2 = numbers1\n",
        "\n",
        "del numbers2[:5]\n",
        "\n",
        "numbers1"
      ]
    },
    {
      "cell_type": "markdown",
      "metadata": {
        "id": "kE5LRVL7KNV0"
      },
      "source": [
        "#### <p style=\"font-family: Arial; font-size:1.4em; background-color: yellow; color:black;\"> Problem #1.1 </p>\n",
        "\n",
        "#### Figure out the difference between the following two code segments\n",
        "\n",
        "#### The first code segment:\n",
        "- the number is integer value in the function.\n",
        "- The value of the number is changed by the function\n",
        "- Check the value in the caller function main()\n",
        "- The change of the value of the number is not reflected in the caller function\n",
        "\n",
        "#### The second code segment:\n",
        "- The list is a mutable data type\n",
        "- The value of the list is changed by the function\n",
        "- Check the value in the caller function main()\n",
        "- The change of the value of the list is reflected in the caller function\n",
        "\n",
        "## Explain the output of the following code segments. <br> Elaborate the reason why the output is as such."
      ]
    },
    {
      "cell_type": "code",
      "execution_count": null,
      "metadata": {
        "id": "fE1aiQ2UKNV0",
        "colab": {
          "base_uri": "https://localhost:8080/"
        },
        "outputId": "885e5d38-55cd-401e-a3de-afdaef8f7b41"
      },
      "outputs": [
        {
          "output_type": "stream",
          "name": "stdout",
          "text": [
            "number in main(): -1\n"
          ]
        }
      ],
      "source": [
        "def myfuntion(number):\n",
        "    number = 100\n",
        "\n",
        "number = -1\n",
        "myfuntion(number)\n",
        "print ('number in main():', number)\n",
        "# number in main(): -1. Change of the value of the number is not reflected in the caller function"
      ]
    },
    {
      "cell_type": "code",
      "execution_count": null,
      "metadata": {
        "id": "DiEut3AFKNV0",
        "colab": {
          "base_uri": "https://localhost:8080/"
        },
        "outputId": "4fbf8780-bb23-4671-b73a-6ea443812ca6"
      },
      "outputs": [
        {
          "output_type": "stream",
          "name": "stdout",
          "text": [
            "numbers in main(): [100]\n"
          ]
        }
      ],
      "source": [
        "def myfunction(numbers):\n",
        "    numbers[0] = 100\n",
        "\n",
        "numbers = [-1]\n",
        "myfunction(numbers)\n",
        "print ('numbers in main():', numbers)\n",
        "# numbers in main(): [100]. Change of the value of the list is reflected in the caller function\n"
      ]
    },
    {
      "cell_type": "markdown",
      "metadata": {
        "id": "BK8uv3gfKNV1"
      },
      "source": [
        "#### <p style=\"font-family: Arial; font-size:1.4em; background-color: yellow; color:black;\"> Problem #1.2 </p>\n",
        "\n",
        "#### List the other data types that are working as the same way as the list in the above code segments.\n",
        "### Choose the data types from the following list:\n",
        "- String\n",
        "- Tuple\n",
        "- Dictionary\n",
        "- Set\n",
        "\n",
        "- int\n",
        "- float\n",
        "- boolean\n",
        "\n"
      ]
    },
    {
      "cell_type": "markdown",
      "metadata": {
        "id": "irXVj4PuKNV1"
      },
      "source": [
        "#### <p style=\"font-family: Arial; font-size:1.4em; background-color: yellow; color:black;\"> Problem #1.3 </p>\n",
        "\n",
        "#### Review the following methods of the list data type.\n",
        "- append()\n",
        "- extend()\n",
        "- insert()\n",
        "- remove()\n",
        "- sort()\n",
        "- reverse()\n",
        "- pop()\n",
        "- count()\n",
        "- index()\n",
        "- copy()\n",
        "- clear()\n",
        "\n",
        "\n"
      ]
    },
    {
      "cell_type": "markdown",
      "metadata": {
        "id": "i-0E9GtbKNV1"
      },
      "source": [
        "## Concatenation of the List\n",
        "```\n",
        "n1 = [1,2,3]\n",
        "n2 = [4,5,6]\n",
        "```\n",
        "\n",
        "### complete your code here to concatenate the two lists"
      ]
    },
    {
      "cell_type": "code",
      "execution_count": null,
      "metadata": {
        "id": "Gu0IHMpFKNV1",
        "colab": {
          "base_uri": "https://localhost:8080/"
        },
        "outputId": "9e92379c-3e6b-412a-bab0-383d4588741d"
      },
      "outputs": [
        {
          "output_type": "stream",
          "name": "stdout",
          "text": [
            "[1, 2, 3, 4, 5, 6]\n"
          ]
        }
      ],
      "source": [
        "n1 = [1,2,3]\n",
        "n2 = [4,5,6]\n",
        "\n",
        "n1 = n1 + n2\n",
        "\n",
        "print(n1)"
      ]
    },
    {
      "cell_type": "markdown",
      "metadata": {
        "id": "APa-estVKNV1"
      },
      "source": [
        "## Sort the list in the descending order\n",
        "```\n",
        "import random\n",
        "numbers = random.sample(range(1,100), 10)\n",
        "print (numbers)\n",
        "```\n",
        "\n",
        "### complete your code here to sort the list in the descending order\n",
        "\n"
      ]
    },
    {
      "cell_type": "code",
      "execution_count": null,
      "metadata": {
        "id": "w7a4MAalKNV1",
        "colab": {
          "base_uri": "https://localhost:8080/"
        },
        "outputId": "7dc462a1-6de5-4be8-fcd3-cc603bd334ee"
      },
      "outputs": [
        {
          "output_type": "stream",
          "name": "stdout",
          "text": [
            "[96, 71, 51, 49, 47, 40, 26, 25, 7, 5]\n"
          ]
        }
      ],
      "source": [
        "import random\n",
        "numbers = random.sample(range(1,100), 10)\n",
        "\n",
        "numbers.sort()\n",
        "numbers.reverse()\n",
        "print(numbers)"
      ]
    },
    {
      "cell_type": "markdown",
      "metadata": {
        "id": "Jk-yq9hPKNV1"
      },
      "source": [
        "## Figoure out the difference between the following statements\n",
        "```\n",
        "numbers1 = [1,2,3,4,5,6,7,8,9,10]\n",
        "numbers2 = numbers1\n",
        "numbers3 = number1[:]\n",
        "numbers4 = number1.copy()\n",
        "```\n",
        "\n",
        "### complete your code here to test the above statements\n",
        "### Make some changes to the list numbers1 and check the output of numbers2, numbers3, and numbers4\n",
        "### Elaborate the reason why the output is as such.\n",
        "\n",
        "\n"
      ]
    },
    {
      "cell_type": "markdown",
      "metadata": {
        "id": "lY3YkayXKNV2"
      },
      "source": [
        "<mark> Save your file by pressing \"Ctrl+S\" or \"git commit -m \"your message\"\" </mark>"
      ]
    },
    {
      "cell_type": "markdown",
      "metadata": {
        "id": "t47pqbLNKNV2"
      },
      "source": [
        "***\n",
        "\n",
        "## <p style=\"background-color: grey; color: white \"> ◼️  List </p>\n",
        "# <p style=\"font-family: Arial; font-size:1.4em;color:red;\"> 2. Understanding the \"Immutable Data Type\" </p>\n"
      ]
    },
    {
      "cell_type": "code",
      "source": [
        "numbers1 = [1,2,3,4,5,6,7,8,9,10]\n",
        "numbers2 = numbers1\n",
        "numbers3 = numbers1[:]\n",
        "numbers4 = numbers1.copy()\n",
        "\n",
        "print(numbers4)"
      ],
      "metadata": {
        "colab": {
          "base_uri": "https://localhost:8080/"
        },
        "id": "oH03ZfJZT9By",
        "outputId": "20e5f776-56b9-49e9-e05e-1a43f9a08ae0"
      },
      "execution_count": null,
      "outputs": [
        {
          "output_type": "stream",
          "name": "stdout",
          "text": [
            "[1, 2, 3, 4, 5, 6, 7, 8, 9, 10]\n"
          ]
        }
      ]
    },
    {
      "cell_type": "markdown",
      "source": [
        "The output is as such as each value uses a command that takes all values from numbers1 and assigns it to that value."
      ],
      "metadata": {
        "id": "95MInqNoUQ8K"
      }
    },
    {
      "cell_type": "markdown",
      "metadata": {
        "id": "6g95VTcNKNV2"
      },
      "source": [
        "# Object Identity\n",
        "- this specific memory address is what you’ll know as the object’s identity.\n",
        "- This identity is a unique identifier that distinguishes one object from others.\n",
        "- You can use the id() function to find out the identity of an object.\n",
        "\n",
        "\n",
        "\n",
        "\n",
        "\n",
        "\n",
        "\n"
      ]
    },
    {
      "cell_type": "markdown",
      "metadata": {
        "id": "A5f-sxuJKNV2"
      },
      "source": [
        "#### <p style=\"font-family: Arial; font-size:1.4em; background-color: yellow; color:black;\"> Problem #2.0 </p>"
      ]
    },
    {
      "cell_type": "markdown",
      "metadata": {
        "id": "t-2hk1XTKNV2"
      },
      "source": [
        "### Even you use the same value, the identity of the object is different.\n",
        "### Because the integer is an immutable data type.\n",
        "\n",
        "#### Run the following code segment and figure out the identity of the object"
      ]
    },
    {
      "cell_type": "code",
      "execution_count": null,
      "metadata": {
        "id": "_G-9H_4fKNV2",
        "colab": {
          "base_uri": "https://localhost:8080/"
        },
        "outputId": "3159281b-7b03-4a4a-a906-b195e60b3d8b"
      },
      "outputs": [
        {
          "output_type": "execute_result",
          "data": {
            "text/plain": [
              "10751144"
            ]
          },
          "metadata": {},
          "execution_count": 17
        }
      ],
      "source": [
        "num: int = 10\n",
        "\n",
        "id(num)"
      ]
    },
    {
      "cell_type": "code",
      "execution_count": null,
      "metadata": {
        "id": "tlfwKPKmKNV2",
        "colab": {
          "base_uri": "https://localhost:8080/"
        },
        "outputId": "92d8e9c8-0c8b-40e3-b522-b403034cd71c"
      },
      "outputs": [
        {
          "output_type": "execute_result",
          "data": {
            "text/plain": [
              "10751464"
            ]
          },
          "metadata": {},
          "execution_count": 18
        }
      ],
      "source": [
        "num = 20    # The identity of the object is different even if you use the same variable\n",
        "id(num)"
      ]
    },
    {
      "cell_type": "markdown",
      "metadata": {
        "id": "u6YaGDveKNV3"
      },
      "source": [
        "#### <p style=\"font-family: Arial; font-size:1.4em; background-color: yellow; color:black;\"> Problem #2.1 </p>"
      ]
    },
    {
      "cell_type": "markdown",
      "metadata": {
        "id": "bPZ-4uB_KNV3"
      },
      "source": [
        "### For the list data type, the identity of the object is the same.\n",
        "### Because the list is a mutable data type.\n",
        "\n",
        "#### Run the following code segment and figure out the identity of the list numbers1 and numbers2\n",
        "#### Elaborate the reason why the identity of the list is the same."
      ]
    },
    {
      "cell_type": "code",
      "execution_count": null,
      "metadata": {
        "id": "UqgcD2uHKNV3",
        "colab": {
          "base_uri": "https://localhost:8080/"
        },
        "outputId": "4a0226f6-e773-4316-e5ba-d09158c4290f"
      },
      "outputs": [
        {
          "output_type": "stream",
          "name": "stdout",
          "text": [
            "132663993863360 132663993863360\n"
          ]
        }
      ],
      "source": [
        "numbers1 = [1,2,3]\n",
        "numbers2 = numbers1\n",
        "\n",
        "print (id(numbers1), id(numbers2))\n",
        "# The identity of the object is the same."
      ]
    },
    {
      "cell_type": "markdown",
      "source": [
        "The reason the identity of the list is the same is because the identity value of the variable numbers2 is directly assigned from numbers1, which includes the identity value as well."
      ],
      "metadata": {
        "id": "kIBgVcVcVVVf"
      }
    },
    {
      "cell_type": "markdown",
      "metadata": {
        "id": "ipsY7BmSKNV3"
      },
      "source": [
        "#### <p style=\"font-family: Arial; font-size:1.4em; background-color: yellow; color:black;\"> Problem #2.2 </p>"
      ]
    },
    {
      "cell_type": "markdown",
      "metadata": {
        "id": "POKGmjnAKNV3"
      },
      "source": [
        "### In function call, the identities of the list are the same.  \n",
        "### Because the list is a mutable data type.\n",
        "```\n",
        "def myfunction(numbers):\n",
        "    numbers[0] = 100\n",
        "\n",
        "numbers = [1,2,3]\n",
        "myfunction(numbers)\n",
        "print (numbers)\n",
        "```\n",
        "### The identity of the list is the same.\n",
        "\n",
        "Make the code segment to show the identity of the list is the same.\n",
        "\n",
        "- Elaborate the reason why the identity of the list is the same.\n",
        "\n"
      ]
    },
    {
      "cell_type": "code",
      "execution_count": null,
      "metadata": {
        "id": "F4vSZS9FKNV3",
        "colab": {
          "base_uri": "https://localhost:8080/"
        },
        "outputId": "0fa8cd3c-a3d8-4d97-daa7-10754d28c6d0"
      },
      "outputs": [
        {
          "output_type": "stream",
          "name": "stdout",
          "text": [
            "132663990954752\n",
            "132663990954752\n"
          ]
        }
      ],
      "source": [
        "def myfunction(numbers):\n",
        "  numbers[0] = 100\n",
        "\n",
        "numbers = [1,2,3]\n",
        "print(id(numbers))\n",
        "myfunction(numbers)\n",
        "print(id(numbers))"
      ]
    },
    {
      "cell_type": "markdown",
      "source": [
        "The reason why the identity of the list is the same is due to lists being mutable data types, so changing one element of the list still keeps the same identity value."
      ],
      "metadata": {
        "id": "vMHaFQJiWnah"
      }
    },
    {
      "cell_type": "markdown",
      "metadata": {
        "id": "5uaHBlEqKNV3"
      },
      "source": [
        "<mark> Save your file by pressing \"Ctrl+S\" or \"git commit -m \"your message\"\" </mark>"
      ]
    },
    {
      "cell_type": "markdown",
      "metadata": {
        "id": "30aZLAQMKNV3"
      },
      "source": [
        "***\n",
        "\n",
        "## <p style=\"background-color: grey; color: white \"> ◼️  List </p>\n",
        "# <p style=\"font-family: Arial; font-size:1.4em;color:red;\"> 3. Handing the list index out of range error </p>\n"
      ]
    },
    {
      "cell_type": "markdown",
      "metadata": {
        "id": "24FHybBXKNV3"
      },
      "source": [
        "#### <p style=\"font-family: Arial; font-size:1.4em; background-color: yellow; color:black;\"> Problem #3.1 </p>"
      ]
    },
    {
      "cell_type": "markdown",
      "metadata": {
        "id": "bVFRhaO2KNV4"
      },
      "source": [
        "## [1] Figure out the index error situation"
      ]
    },
    {
      "cell_type": "markdown",
      "metadata": {
        "id": "YPItPyFgKNV4"
      },
      "source": [
        "### 1) Error or Not ?\n",
        "\n",
        "```\n",
        "numbers = [1,2,3]\n",
        "numbers[3] = 100\n",
        "```\n",
        "\n",
        "### 2) Error or Not ?\n",
        "```\n",
        "print (numbers[:10])\n",
        "```"
      ]
    },
    {
      "cell_type": "code",
      "execution_count": 21,
      "metadata": {
        "id": "IWNbBGQ5KNV4",
        "colab": {
          "base_uri": "https://localhost:8080/",
          "height": 211
        },
        "outputId": "8f768335-0a7d-4322-d332-2dd667ee67eb"
      },
      "outputs": [
        {
          "output_type": "error",
          "ename": "IndexError",
          "evalue": "list assignment index out of range",
          "traceback": [
            "\u001b[0;31m---------------------------------------------------------------------------\u001b[0m",
            "\u001b[0;31mIndexError\u001b[0m                                Traceback (most recent call last)",
            "\u001b[0;32m<ipython-input-21-1aefce671f35>\u001b[0m in \u001b[0;36m<cell line: 0>\u001b[0;34m()\u001b[0m\n\u001b[1;32m      1\u001b[0m \u001b[0;31m# Run the above code segments and figure out the index error situation\u001b[0m\u001b[0;34m\u001b[0m\u001b[0;34m\u001b[0m\u001b[0m\n\u001b[1;32m      2\u001b[0m \u001b[0mnumbers\u001b[0m \u001b[0;34m=\u001b[0m \u001b[0;34m[\u001b[0m\u001b[0;36m1\u001b[0m\u001b[0;34m,\u001b[0m\u001b[0;36m2\u001b[0m\u001b[0;34m,\u001b[0m\u001b[0;36m3\u001b[0m\u001b[0;34m]\u001b[0m\u001b[0;34m\u001b[0m\u001b[0;34m\u001b[0m\u001b[0m\n\u001b[0;32m----> 3\u001b[0;31m \u001b[0mnumbers\u001b[0m\u001b[0;34m[\u001b[0m\u001b[0;36m3\u001b[0m\u001b[0;34m]\u001b[0m \u001b[0;34m=\u001b[0m \u001b[0;36m100\u001b[0m\u001b[0;34m\u001b[0m\u001b[0;34m\u001b[0m\u001b[0m\n\u001b[0m\u001b[1;32m      4\u001b[0m \u001b[0;34m\u001b[0m\u001b[0m\n\u001b[1;32m      5\u001b[0m \u001b[0mprint\u001b[0m\u001b[0;34m(\u001b[0m\u001b[0mnumbers\u001b[0m\u001b[0;34m[\u001b[0m\u001b[0;34m:\u001b[0m\u001b[0;36m10\u001b[0m\u001b[0;34m]\u001b[0m\u001b[0;34m)\u001b[0m\u001b[0;34m\u001b[0m\u001b[0;34m\u001b[0m\u001b[0m\n",
            "\u001b[0;31mIndexError\u001b[0m: list assignment index out of range"
          ]
        }
      ],
      "source": [
        "# Run the above code segments and figure out the index error situation\n",
        "numbers = [1,2,3]\n",
        "numbers[3] = 100\n",
        "\n",
        "print(numbers[:10])"
      ]
    },
    {
      "cell_type": "code",
      "execution_count": 22,
      "metadata": {
        "id": "8oAIoWRHKNV4",
        "outputId": "747e15af-9df2-4fee-cef1-8a75da903ba7",
        "colab": {
          "base_uri": "https://localhost:8080/"
        }
      },
      "outputs": [
        {
          "output_type": "stream",
          "name": "stdout",
          "text": [
            "[2, 3]\n"
          ]
        }
      ],
      "source": [
        "numbers = [1,2,3]\n",
        "# print (numbers[3])\n",
        "\n",
        "print (numbers[1:10])"
      ]
    },
    {
      "cell_type": "markdown",
      "metadata": {
        "id": "Vz6JKppOKNV4"
      },
      "source": [
        "#### <p style=\"font-family: Arial; font-size:1.4em; background-color: yellow; color:black;\"> Problem #3.2 </p>"
      ]
    },
    {
      "cell_type": "markdown",
      "metadata": {
        "id": "Tc8RgSFFKNV5"
      },
      "source": [
        "## [2] Handling the index error situation with the try-except statement"
      ]
    },
    {
      "cell_type": "markdown",
      "metadata": {
        "id": "67WLco7mKNV9"
      },
      "source": [
        "### Understanding the try-except statement\n",
        "\n",
        "``` Basic Syntax of the try-except statement\n",
        "try:\n",
        "    # Code block where exception might occur\n",
        "    # Your code here\n",
        "except ExceptionType as e:\n",
        "    # Code block to execute if an exception occurs\n",
        "    # Your code here\n",
        "else:\n",
        "    # Code block to execute if no exception occurs\n",
        "    # Your code here\n",
        "```\n",
        "\n"
      ]
    },
    {
      "cell_type": "markdown",
      "metadata": {
        "id": "eUSgr9ebKNV-"
      },
      "source": [
        "#### Example 1"
      ]
    },
    {
      "cell_type": "code",
      "execution_count": 23,
      "metadata": {
        "id": "h_ngJsh6KNV-",
        "colab": {
          "base_uri": "https://localhost:8080/"
        },
        "outputId": "5f382bbe-2137-4735-b127-5e02eada41d6"
      },
      "outputs": [
        {
          "output_type": "stream",
          "name": "stdout",
          "text": [
            "list index out of range\n"
          ]
        }
      ],
      "source": [
        "#Example\n",
        "numbers = [1,2,3]\n",
        "try:\n",
        "    print (numbers[3])\n",
        "except Exception as e:\n",
        "    print (e)\n"
      ]
    },
    {
      "cell_type": "markdown",
      "metadata": {
        "id": "N8YxILOuKNV-"
      },
      "source": [
        "#### Example 2"
      ]
    },
    {
      "cell_type": "code",
      "execution_count": 24,
      "metadata": {
        "id": "apiT4mIuKNV-",
        "outputId": "6934b612-df81-4fec-ce4f-50911ece5e27",
        "colab": {
          "base_uri": "https://localhost:8080/"
        }
      },
      "outputs": [
        {
          "output_type": "stream",
          "name": "stdout",
          "text": [
            "IndexError: list index out of range\n"
          ]
        }
      ],
      "source": [
        "# Example 2\n",
        "numbers = [1,2,3]\n",
        "try:\n",
        "    print (numbers[10])\n",
        "except IndexError:\n",
        "    print ('IndexError: list index out of range')\n",
        "else:\n",
        "    print ('No error')\n",
        "\n",
        "\n"
      ]
    },
    {
      "cell_type": "markdown",
      "metadata": {
        "id": "4tmZNPCJKNV_"
      },
      "source": [
        "## Main Adavatage of the try-except statement\n",
        "\n",
        "#### Die or Alive\n",
        "\n",
        "- In error situation, the program is not terminated.\n",
        "- The program can continue to run.\n",
        "\n",
        "\n",
        "\n"
      ]
    },
    {
      "cell_type": "markdown",
      "metadata": {
        "id": "99upA-6tKNV_"
      },
      "source": [
        "## Error Keywords\n",
        "[Python Official Document for Errores and exception](https://docs.python.org/3/tutorial/errors.html)\n",
        "```\n",
        "Types of Exceptions\n",
        "Python has several built-in exception types. Some common ones include:\n",
        "- SyntaxError: Raised when there's a syntax error in the code.\n",
        "- NameError: Raised when a variable is not found in the local or global scope.\n",
        "- TypeError: Raised when an operation is performed on an inappropriate type.\n",
        "- ValueError: Raised when a function receives an argument of the correct type but an inappropriate value.\n",
        "- ZeroDivisionError: Raised when division or modulo by zero is performed.\n",
        "```\n",
        "\n"
      ]
    },
    {
      "cell_type": "markdown",
      "metadata": {
        "id": "-CTM7g7JKNV_"
      },
      "source": [
        "#### <p style=\"font-family: Arial; font-size:1.4em; background-color: yellow; color:black;\"> Problem #3.3 </p>"
      ]
    },
    {
      "cell_type": "markdown",
      "metadata": {
        "id": "A_sXZdSSKNV_"
      },
      "source": [
        "### Make the code segment to handle the index error situation with the try-except statement\n",
        "- There is 100 elements in the list numbers\n",
        "- A user will pick an index of the element in the list\n",
        "- Your program will print out the element in the list at the picked index\n",
        "- If the index is out of range, the program will print out the error message \"IndexError: list index out of range\". Use the try-except statement to handle the error.\n",
        "- If the index is valid, the program will print out the element in the list at the picked index\n",
        "\n"
      ]
    },
    {
      "cell_type": "code",
      "execution_count": 26,
      "metadata": {
        "id": "uDDkFJf5KNV_",
        "outputId": "9e39b042-9c78-4c5f-bc63-76fa3b88939c",
        "colab": {
          "base_uri": "https://localhost:8080/"
        }
      },
      "outputs": [
        {
          "output_type": "stream",
          "name": "stdout",
          "text": [
            "[84, 47, 7, 71, 97, 84, 5, 9, 79, 98, 100, 82, 70, 78, 70, 23, 84, 100, 85, 47, 38, 5, 65, 55, 24, 1, 54, 77, 38, 78, 30, 40, 14, 44, 2, 39, 38, 54, 31, 13, 30, 71, 43, 60, 76, 65, 49, 56, 50, 51, 12, 80, 9, 79, 50, 8, 39, 98, 72, 95, 48, 36, 93, 52, 81, 25, 41, 23, 21, 78, 5, 96, 67, 23, 71, 69, 12, 58, 24, 10, 37, 88, 92, 82, 52, 30, 4, 1, 75, 46, 46, 82, 89, 1, 66, 31, 9, 52, 91, 36]\n",
            "Please pick a number between 1 and 100.87\n",
            "4\n"
          ]
        }
      ],
      "source": [
        "import random\n",
        "\n",
        "numbers = [random.randint(1,100) for _ in range(100)]\n",
        "print (numbers)\n",
        "#****************************************************\n",
        "userNum = int(input(\"Please pick a number between 1 and 100.\"))\n",
        "userNum = userNum - 1\n",
        "try:\n",
        "  print(numbers[userNum])\n",
        "except Exception as e:\n",
        "  print(\"IndexError: list index out of range\")\n",
        "#****************************************************/"
      ]
    },
    {
      "cell_type": "markdown",
      "metadata": {
        "id": "g-0KKVVuKNWA"
      },
      "source": [
        "<mark> Save your file by pressing \"Ctrl+S\" or \"git commit -m \"your message\"\" </mark>"
      ]
    },
    {
      "cell_type": "markdown",
      "metadata": {
        "id": "VRCg0HqGKNWA"
      },
      "source": [
        "***\n",
        "\n",
        "## <p style=\"background-color: grey; color: white \"> ◼️  List </p>\n",
        "# <p style=\"font-family: Arial; font-size:1.4em;color:red;\"> 4. List of List\n",
        "\n"
      ]
    },
    {
      "cell_type": "markdown",
      "metadata": {
        "id": "LqXz8PvbKNWA"
      },
      "source": [
        "#### <p style=\"font-family: Arial; font-size:1.4em; background-color: yellow; color:black;\"> Problem #4.1 </p>"
      ]
    },
    {
      "cell_type": "markdown",
      "metadata": {
        "id": "5ZQEXeTrKNWA"
      },
      "source": [
        "## There are students records in the list \"students\".\n",
        "```\n",
        "- The Student record consists of the student name, age, and the list of scores in Math, Science, and English\n",
        "- Make a function to print out the student record in the following format\n",
        "-- No return value. Use the same list of students. Do not create a new list.\n",
        "- Name: <student name> - Age: <student age> - Scores: <list of scores> - Total Score: <total score> - Average Score: <average score>\n",
        "- The function will take the list of students as an input and print out the student record for each student in the list\n",
        "\n",
        "students = [\n",
        "    [\"John\", 20, [80, 85, 90]],\n",
        "    [\"Jane\", 21, [82, 86, 89]],\n",
        "    [\"Doe\", 22, [84, 88, 92]]\n",
        "]\n",
        "```"
      ]
    },
    {
      "cell_type": "code",
      "execution_count": 27,
      "metadata": {
        "id": "AzykJGq-KNWA",
        "colab": {
          "base_uri": "https://localhost:8080/"
        },
        "outputId": "8e74f388-59c8-4cce-bd73-95efc6632f8a"
      },
      "outputs": [
        {
          "output_type": "stream",
          "name": "stdout",
          "text": [
            "**********************************************************************\n",
            "Name: John - Age: 20 - Scores: [80, 85, 90] - Total Score: 255 - Average Score: 85.0\n",
            "Name: Jane - Age: 21 - Scores: [82, 86, 89] - Total Score: 257 - Average Score: 85.66666666666667\n",
            "Name: Doe - Age: 22 - Scores: [84, 88, 92] - Total Score: 264 - Average Score: 88.0\n",
            "Name: Kim - Age: 23 - Scores: [85, 89, 91] - Total Score: 265 - Average Score: 88.33333333333333\n",
            "Name: Lee - Age: 24 - Scores: [86, 90, 93] - Total Score: 269 - Average Score: 89.66666666666667\n",
            "Name: Alex - Age: 25 - Scores: [87, 91, 94] - Total Score: 272 - Average Score: 90.66666666666667\n",
            "Name: Kyle - Age: 26 - Scores: [88, 92, 95] - Total Score: 275 - Average Score: 91.66666666666667\n",
            "Name: Jenny - Age: 27 - Scores: [89, 93, 96] - Total Score: 278 - Average Score: 92.66666666666667\n",
            "Name: Jake - Age: 28 - Scores: [90, 94, 97] - Total Score: 281 - Average Score: 93.66666666666667\n",
            "Name: Jessica - Age: 29 - Scores: [91, 95, 98] - Total Score: 284 - Average Score: 94.66666666666667\n",
            "Name: Josh - Age: 30 - Scores: [92, 96, 99] - Total Score: 287 - Average Score: 95.66666666666667\n",
            "Name: Jill - Age: 31 - Scores: [93, 97, 100] - Total Score: 290 - Average Score: 96.66666666666667\n"
          ]
        }
      ],
      "source": [
        "def print_student_record(students):\n",
        "    ###################################################\n",
        "    # code here\n",
        "    # Name: John - Age: 20 - Scores: [80, 85, 90] - Total Score: 255 - Average Score: 85.0\n",
        "    # Name: Jane - Age: 21 - Scores: [82, 86, 89] - Total Score: 257 - Average Score: 85.67\n",
        "    # ...\n",
        "    ###################################################\n",
        "    print (\"**********************************************************************\")\n",
        "    for student in students:\n",
        "        print (f\"Name: {student[0]} - Age: {student[1]} - Scores: {student[2]} - Total Score: {sum(student[2])} - Average Score: {sum(student[2])/len(student[2])}\")\n",
        "\n",
        "\n",
        "\n",
        "students = [\n",
        "    [\"John\", 20, [80, 85, 90]],\n",
        "    [\"Jane\", 21, [82, 86, 89]],\n",
        "    [\"Doe\", 22, [84, 88, 92]],\n",
        "    ['Kim', 23, [85, 89, 91]],\n",
        "    ['Lee', 24, [86, 90, 93]],\n",
        "    ['Alex', 25, [87, 91, 94]],\n",
        "    ['Kyle', 26, [88, 92, 95]],\n",
        "    ['Jenny', 27, [89, 93, 96]],\n",
        "    ['Jake', 28, [90, 94, 97]],\n",
        "    ['Jessica', 29, [91, 95, 98]],\n",
        "    ['Josh', 30, [92, 96, 99]],\n",
        "    ['Jill', 31, [93, 97, 100]] ]\n",
        "\n",
        "print_student_record(students)\n",
        "\n",
        "\n"
      ]
    },
    {
      "cell_type": "markdown",
      "metadata": {
        "id": "h4ntUxn1KNWA"
      },
      "source": [
        "## Make the function \"sort_students\" to sort the students by the the following criteria\n",
        "\n",
        "- Key = 1: Sort the students by the total score\n",
        "- Key = 2: Sort the students by the age\n",
        "- Key = 3: Sort the students by the name\n",
        "- Ascending = True: Sort in ascending order\n",
        "- Ascending = False: Sort in descending order\n",
        "```\n",
        "def sort_students(students, key, ascending):\n",
        "    ###################################################\n",
        "    # code here\n",
        "    ###################################################\n",
        "\n",
        "```\n"
      ]
    },
    {
      "cell_type": "code",
      "execution_count": 39,
      "metadata": {
        "id": "1St47RRaKNWB",
        "colab": {
          "base_uri": "https://localhost:8080/",
          "height": 558
        },
        "outputId": "fdf271f1-18cd-4c25-f274-237d274bb345"
      },
      "outputs": [
        {
          "output_type": "stream",
          "name": "stdout",
          "text": [
            "**********************************************************************\n",
            "Name: John - Age: 20 - Scores: [80, 85, 90] - Total Score: 255 - Average Score: 85.0\n",
            "Name: Jane - Age: 21 - Scores: [82, 86, 89] - Total Score: 257 - Average Score: 85.66666666666667\n",
            "Name: Doe - Age: 22 - Scores: [84, 88, 92] - Total Score: 264 - Average Score: 88.0\n",
            "Name: Kim - Age: 23 - Scores: [85, 89, 91] - Total Score: 265 - Average Score: 88.33333333333333\n",
            "Name: Lee - Age: 24 - Scores: [86, 90, 93] - Total Score: 269 - Average Score: 89.66666666666667\n",
            "Name: Alex - Age: 25 - Scores: [87, 91, 94] - Total Score: 272 - Average Score: 90.66666666666667\n",
            "Name: Kyle - Age: 26 - Scores: [88, 92, 95] - Total Score: 275 - Average Score: 91.66666666666667\n",
            "Name: Jenny - Age: 27 - Scores: [89, 93, 96] - Total Score: 278 - Average Score: 92.66666666666667\n",
            "Name: Jake - Age: 28 - Scores: [90, 94, 97] - Total Score: 281 - Average Score: 93.66666666666667\n",
            "Name: Jessica - Age: 29 - Scores: [91, 95, 98] - Total Score: 284 - Average Score: 94.66666666666667\n",
            "Name: Josh - Age: 30 - Scores: [92, 96, 99] - Total Score: 287 - Average Score: 95.66666666666667\n",
            "Name: Jill - Age: 31 - Scores: [93, 97, 100] - Total Score: 290 - Average Score: 96.66666666666667\n"
          ]
        },
        {
          "output_type": "error",
          "ename": "TypeError",
          "evalue": "unsupported operand type(s) for +: 'int' and 'list'",
          "traceback": [
            "\u001b[0;31m---------------------------------------------------------------------------\u001b[0m",
            "\u001b[0;31mTypeError\u001b[0m                                 Traceback (most recent call last)",
            "\u001b[0;32m<ipython-input-39-74dd97fee63c>\u001b[0m in \u001b[0;36m<cell line: 0>\u001b[0;34m()\u001b[0m\n\u001b[1;32m     25\u001b[0m \u001b[0;34m\u001b[0m\u001b[0m\n\u001b[1;32m     26\u001b[0m \u001b[0mprint_student_record\u001b[0m\u001b[0;34m(\u001b[0m\u001b[0mstudents\u001b[0m\u001b[0;34m)\u001b[0m\u001b[0;34m\u001b[0m\u001b[0;34m\u001b[0m\u001b[0m\n\u001b[0;32m---> 27\u001b[0;31m \u001b[0msort_students\u001b[0m\u001b[0;34m(\u001b[0m\u001b[0mstudents\u001b[0m\u001b[0;34m,\u001b[0m \u001b[0;36m1\u001b[0m\u001b[0;34m,\u001b[0m \u001b[0;32mTrue\u001b[0m\u001b[0;34m)\u001b[0m\u001b[0;34m\u001b[0m\u001b[0;34m\u001b[0m\u001b[0m\n\u001b[0m\u001b[1;32m     28\u001b[0m \u001b[0mprint_student_record\u001b[0m\u001b[0;34m(\u001b[0m\u001b[0mstudents\u001b[0m\u001b[0;34m)\u001b[0m\u001b[0;34m\u001b[0m\u001b[0;34m\u001b[0m\u001b[0m\n\u001b[1;32m     29\u001b[0m \u001b[0msort_students\u001b[0m\u001b[0;34m(\u001b[0m\u001b[0mstudents\u001b[0m\u001b[0;34m,\u001b[0m \u001b[0;36m2\u001b[0m\u001b[0;34m,\u001b[0m \u001b[0;32mFalse\u001b[0m\u001b[0;34m)\u001b[0m\u001b[0;34m\u001b[0m\u001b[0;34m\u001b[0m\u001b[0m\n",
            "\u001b[0;32m<ipython-input-39-74dd97fee63c>\u001b[0m in \u001b[0;36msort_students\u001b[0;34m(students, key, ascending)\u001b[0m\n\u001b[1;32m      2\u001b[0m     \u001b[0;31m###################################################\u001b[0m\u001b[0;34m\u001b[0m\u001b[0;34m\u001b[0m\u001b[0m\n\u001b[1;32m      3\u001b[0m     \u001b[0;32mif\u001b[0m \u001b[0mkey\u001b[0m \u001b[0;34m==\u001b[0m \u001b[0;36m1\u001b[0m\u001b[0;34m:\u001b[0m\u001b[0;34m\u001b[0m\u001b[0;34m\u001b[0m\u001b[0m\n\u001b[0;32m----> 4\u001b[0;31m       \u001b[0mstudents\u001b[0m\u001b[0;34m[\u001b[0m\u001b[0;34m:\u001b[0m\u001b[0;36m2\u001b[0m\u001b[0;34m]\u001b[0m \u001b[0;34m=\u001b[0m \u001b[0msum\u001b[0m\u001b[0;34m(\u001b[0m\u001b[0mstudents\u001b[0m\u001b[0;34m[\u001b[0m\u001b[0;34m:\u001b[0m\u001b[0;36m2\u001b[0m\u001b[0;34m]\u001b[0m\u001b[0;34m)\u001b[0m\u001b[0;34m/\u001b[0m\u001b[0;36m3\u001b[0m\u001b[0;34m\u001b[0m\u001b[0;34m\u001b[0m\u001b[0m\n\u001b[0m\u001b[1;32m      5\u001b[0m       \u001b[0;32mif\u001b[0m \u001b[0mascending\u001b[0m\u001b[0;34m:\u001b[0m\u001b[0;34m\u001b[0m\u001b[0;34m\u001b[0m\u001b[0m\n\u001b[1;32m      6\u001b[0m         \u001b[0mstudents\u001b[0m\u001b[0;34m.\u001b[0m\u001b[0msort\u001b[0m\u001b[0;34m(\u001b[0m\u001b[0mstudents\u001b[0m\u001b[0;34m[\u001b[0m\u001b[0;36m2\u001b[0m\u001b[0;34m]\u001b[0m\u001b[0;34m)\u001b[0m\u001b[0;34m\u001b[0m\u001b[0;34m\u001b[0m\u001b[0m\n",
            "\u001b[0;31mTypeError\u001b[0m: unsupported operand type(s) for +: 'int' and 'list'"
          ]
        }
      ],
      "source": [
        "def sort_students(students, key, ascending):\n",
        "    ###################################################\n",
        "    if key == 1:\n",
        "      students[2] = sum(students[2])/3\n",
        "      if ascending:\n",
        "        students.sort(students[2])\n",
        "      else:\n",
        "        students.sort(students[2])\n",
        "        students.reverse()\n",
        "    elif key == 2:\n",
        "      if ascending:\n",
        "        students.sort(students[1])\n",
        "      else:\n",
        "        students.sort(students[1])\n",
        "        students.reverse()\n",
        "    elif key == 3:\n",
        "      if ascending:\n",
        "        students.sort()\n",
        "      else:\n",
        "        students.sort()\n",
        "        students.reverse()\n",
        "    ###################################################\n",
        "\n",
        "\n",
        "\n",
        "print_student_record(students)\n",
        "sort_students(students, 1, True)\n",
        "print_student_record(students)\n",
        "sort_students(students, 2, False)\n",
        "print_student_record(students)\n",
        "sort_students(students, 3, True)\n",
        "print_student_record(students)\n"
      ]
    },
    {
      "cell_type": "markdown",
      "metadata": {
        "id": "e2e68NePKNWB"
      },
      "source": [
        "#### <p style=\"font-family: Arial; font-size:1.4em; background-color: yellow; color:black;\"> Problem #4.2 </p>"
      ]
    },
    {
      "cell_type": "markdown",
      "metadata": {
        "id": "DAjGAWajKNWB"
      },
      "source": [
        "## Make the function \"reconstruct_list(rows, cols)\" that reconstructs the list of integers in the following way\n",
        "#### Return value: new list of list of integers\n",
        "\n",
        "- numbers = [ 1, 2, 3, 4, 5, 6, 7, 8, 9, 10, 11, 12, 13, 14, 15, 16, 17, 18, 19, 20, 21, 22, 23, 24]\n",
        "- reconstruct_list(rows, cols) will reform the list of list of integers with the number of rows and columns\n",
        "- For example, if rows = 4 and cols = 6, the function will return the following list of list of integers\n",
        "- numbers = [ [1, 2, 3, 4, 5, 6], [7, 8, 9, 10, 11, 12], [13, 14, 15, 16, 17, 18], [19, 20, 21, 22, 23, 24] ]\n",
        "- For example if rows = 2 and cols = 12,\n",
        "- numbers = [ [1, 2, 3, 4, 5, 6, 7, 8, 9, 10, 11, 12], [13, 14, 15, 16, 17, 18, 19, 20, 21, 22, 23, 24] ]\n",
        "- For example if rows = 8 and cols = 3,\n",
        "- numbers = [ [1, 2, 3], [4, 5, 6], [7, 8, 9], [10, 11, 12], [13, 14, 15], [16, 17, 18], [19, 20, 21], [22, 23, 24] ]\n",
        "```\n",
        "def reconstruct_list(numbers, rows, cols):\n",
        "    ###################################################\n",
        "    # code here\n",
        "    ###################################################\n",
        "\n",
        "```\n"
      ]
    },
    {
      "cell_type": "code",
      "execution_count": 47,
      "metadata": {
        "id": "HiWhEzFgKNWB",
        "colab": {
          "base_uri": "https://localhost:8080/"
        },
        "outputId": "6de96c4b-bb8e-4852-b5d5-672a5bd4209d"
      },
      "outputs": [
        {
          "output_type": "stream",
          "name": "stdout",
          "text": [
            "[[1, 2, 3, 4, 5, 6], [7, 8, 9, 10, 11, 12], [13, 14, 15, 16, 17, 18], [19, 20, 21, 22, 23, 24]]\n"
          ]
        }
      ],
      "source": [
        "def reconstruct_list(numbers, rows, cols):\n",
        "    ###################################################\n",
        "    newList = []\n",
        "    tempList = []\n",
        "    counter = 0\n",
        "\n",
        "    for i in range(len(numbers)):\n",
        "      tempList.append(numbers[i])\n",
        "      counter = counter + 1\n",
        "      if counter == 6:\n",
        "        newList.append(tempList)\n",
        "        tempList = []\n",
        "        counter = 0\n",
        "\n",
        "    return newList\n",
        "    ###################################################\n",
        "\n",
        "numbers = [ 1, 2, 3, 4, 5, 6, 7, 8, 9, 10, 11, 12, 13, 14, 15, 16, 17, 18, 19, 20, 21, 22, 23, 24]\n",
        "new_numbers = reconstruct_list(numbers, 4, 6)\n",
        "print (new_numbers)"
      ]
    },
    {
      "cell_type": "markdown",
      "metadata": {
        "id": "mV9hKhm-KNWB"
      },
      "source": [
        "<mark> Save your file by pressing \"Ctrl+S\" or \"git commit -m \"your message\"\" </mark>"
      ]
    },
    {
      "cell_type": "markdown",
      "metadata": {
        "id": "yU5z8bWvKNWB"
      },
      "source": [
        "***\n",
        "\n",
        "## <p style=\"background-color: grey; color: white \"> ◼️  List </p>\n",
        "# <p style=\"font-family: Arial; font-size:1.4em;color:red;\"> 5. any() and all()\n",
        "\n"
      ]
    },
    {
      "cell_type": "markdown",
      "metadata": {
        "id": "wrkoZ71lKNWC"
      },
      "source": [
        "Use the any() and all() functions to check the elements in the list\n",
        "\n",
        "#### <p style=\"font-family: Arial; font-size:1.4em; background-color: yellow; color:black;\"> Problem #5.1 </p>\n",
        "\n",
        "#### Run the following code segment and figure out the output of the code segment"
      ]
    },
    {
      "cell_type": "code",
      "execution_count": null,
      "metadata": {
        "id": "7HE3kHY4KNWC"
      },
      "outputs": [],
      "source": [
        "numbers = [1, 2, 3, 4, 5, 6, 7, 8, 9, 10]\n",
        "\n",
        "any( x % 2 == 0 for x in numbers)"
      ]
    },
    {
      "cell_type": "code",
      "execution_count": null,
      "metadata": {
        "id": "yftLSe8kKNWC"
      },
      "outputs": [],
      "source": [
        "all ( x > 0 for x in numbers)"
      ]
    },
    {
      "cell_type": "markdown",
      "metadata": {
        "id": "H5V2umnIKNWC"
      },
      "source": [
        "Use the any() and all() functions to check the elements in the list\n",
        "\n",
        "#### <p style=\"font-family: Arial; font-size:1.4em; background-color: yellow; color:black;\"> Problem #5.2</p>\n",
        "\n",
        "#### Make the function isSubset(numbers1, numbers2) to check if the numbers1 is a subset of numbers2\n",
        "- Return True if the numbers1 is a subset of numbers2\n",
        "- Return False otherwise\n",
        "- Use the any() and all() functions to check the elements in the list\n"
      ]
    },
    {
      "cell_type": "code",
      "execution_count": null,
      "metadata": {
        "id": "Bi-PiAbSKNWC"
      },
      "outputs": [],
      "source": [
        "def isSubset(numbers1, numbers2):\n",
        "    ###################################################\n",
        "    # code here\n",
        "    ###################################################\n",
        "\n",
        "\n",
        "numbers1 = [1, 2, 3]\n",
        "numbers2 = [1, 2, 3, 4, 5, 6, 7, 8, 9, 10]\n",
        "print (isSubset(numbers1, numbers2))\n",
        "\n"
      ]
    },
    {
      "cell_type": "markdown",
      "metadata": {
        "id": "8JIallbYKNWC"
      },
      "source": [
        "<mark> Save your file by pressing \"Ctrl+S\" or \"git commit -m \"your message\"\" </mark>"
      ]
    }
  ],
  "metadata": {
    "kernelspec": {
      "display_name": "Python 3.9.13 ('base')",
      "language": "python",
      "name": "python3"
    },
    "language_info": {
      "codemirror_mode": {
        "name": "ipython",
        "version": 3
      },
      "file_extension": ".py",
      "mimetype": "text/x-python",
      "name": "python",
      "nbconvert_exporter": "python",
      "pygments_lexer": "ipython3",
      "version": "3.9.17"
    },
    "orig_nbformat": 4,
    "vscode": {
      "interpreter": {
        "hash": "32cd87c0c55905266dc8232ebf1148f668af0d9324249c125246585210a29cd6"
      }
    },
    "colab": {
      "provenance": []
    }
  },
  "nbformat": 4,
  "nbformat_minor": 0
}