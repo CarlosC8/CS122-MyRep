{
  "cells": [
    {
      "cell_type": "markdown",
      "metadata": {
        "id": "FGX5UnOWWKnC"
      },
      "source": [
        "<style>\n",
        "\th1 {\n",
        "\t--\tbackground-color: grey;\n",
        "\t\tcolor: yellow\n",
        "\t\tborder: 3px solid grey\n",
        "\n",
        "\t}\n",
        "\tp {\n",
        "\t\tbackground-color: grey;\n",
        "\t\tcolor: white\n",
        "\t\tborder: 3px solid grey\n",
        "\n",
        "\t}\n",
        "</style>\n",
        "<h1> Chapter 5 Functions: Part 1</h1>"
      ]
    },
    {
      "cell_type": "markdown",
      "metadata": {
        "id": "i4vk0xhCWKnD"
      },
      "source": [
        "<p style=\"margin-left:40px\">1. 5.1 Introduction to Functions</p>\n",
        "\n",
        "<p style=\"margin-left:40px\">2. 5.2 Defining and Calling a Void Function</p>\n",
        "\n",
        "<p style=\"margin-left:40px\">3. 5.3 Designing a Program to Use Functions</p>\n",
        "\n",
        "<p style=\"margin-left:40px\">4. 5.4 <mark> Local Variables </mark></p>\n",
        "\n",
        "<p style=\"margin-left:40px\">5. 5.5 <mark> Passing Arguments to Functions </mark></p>\n",
        "\n",
        "<p style=\"margin-left:40px\">6. 5.6 Global Variables and Global Constants</p>\n",
        "\n",
        "<p style=\"margin-left:40px\">7. 5.7 Introduction to <mark>Value-Returning Functions </mark>: Generating Random Numbers</p>\n",
        "\n",
        "<p style=\"margin-left:40px\">8. 5.8 Writing Your Own Value-Returning Functions</p>\n",
        "\n",
        "<p style=\"margin-left:40px\">9. 5.9 The math Module</p>\n",
        "\n",
        "<p style=\"margin-left:40px\">10. 5.10 <mark> Storing Functions in Modules <mark> </p>\n",
        "\n",
        "<p style=\"margin-left:40px\">11. 5.11 Turtle Graphics: Modularizing Code with Functions</p>\n"
      ]
    },
    {
      "cell_type": "markdown",
      "metadata": {
        "id": "jgd7C5kdWKnE"
      },
      "source": [
        "***\n",
        "\n",
        "## <p style=\"background-color: grey; color: white \"> ◼️  functions </p>\n",
        "# <p style=\"font-family: Arial; font-size:1.4em;color:red;\"> 1. Basic Examples of Functions</p>\n"
      ]
    },
    {
      "cell_type": "markdown",
      "metadata": {
        "id": "YuThIw4bWKnF"
      },
      "source": [
        "<style>\n",
        "\th3{\n",
        "\t\tbackground-color: grey\n",
        "\t\tcolor: white\n",
        "\t}\n",
        "</style>\n",
        "\n",
        "<h3> First example of function </h3>\n",
        "\n",
        "- Run all the following code cells and check out the result of code segments"
      ]
    },
    {
      "cell_type": "markdown",
      "metadata": {
        "id": "ggCRjZlCWKnF"
      },
      "source": [
        "#### <p style=\"font-family: Arial; font-size:1.4em; background-color: yellow; color:black;\"> Problem #1.0 </p>\n",
        "\n",
        "#### Run all the cells and figure out the basic usage of while loop structure"
      ]
    },
    {
      "cell_type": "code",
      "execution_count": null,
      "metadata": {
        "id": "NbfgLUHFWKnF"
      },
      "outputs": [],
      "source": [
        "def fn():\n",
        "\treturn\n",
        "\n",
        "if __name__ == '__main__':\n",
        "\tfn( )\n",
        "\n"
      ]
    },
    {
      "cell_type": "code",
      "execution_count": null,
      "metadata": {
        "id": "yINtKMoMWKnG",
        "outputId": "69dfad1f-dd9a-4ba7-d534-074eb11f4a6a",
        "colab": {
          "base_uri": "https://localhost:8080/"
        }
      },
      "outputs": [
        {
          "name": "stdout",
          "output_type": "stream",
          "text": [
            "2\n"
          ]
        }
      ],
      "source": [
        "# Function to return 0 or 1\n",
        "# if the number is even, return 0, otherwise 1\n",
        "#  checknum ( )\n",
        "\n",
        "def checknum(n):\n",
        "\tif n%2 == 0:\n",
        "\t\treturn 0\n",
        "\telse:\n",
        "\t\treturn 1\n",
        "\n",
        "userinput = int(input())\n",
        "retval = checknum(userinput)\n",
        "\n",
        "\n"
      ]
    },
    {
      "cell_type": "code",
      "execution_count": null,
      "metadata": {
        "id": "TcfwlNQnWKnG",
        "outputId": "017f9409-378d-4b1c-b8fb-021b124ec7b2",
        "colab": {
          "base_uri": "https://localhost:8080/"
        }
      },
      "outputs": [
        {
          "output_type": "stream",
          "name": "stdout",
          "text": [
            "[1, 2, 3, 4, 5, 6, 7]\n",
            "[1, 2, 3, 4, 5, 6, 7]\n",
            "[1, 2, 3, 4, 5, 6, 7]\n",
            "[1, 2, 3, 4, 5, 6, 7]\n"
          ]
        }
      ],
      "source": [
        "def printlst(l):\n",
        "\taverage = sum(l) / len(l)\n",
        "\tfor v in l:\n",
        "\t\tif ( average > v):\n",
        "\t\t\tprint(l)\n",
        "\n",
        "lst = [1,2,3,4,5,6,7]\n",
        "printlst(lst) # print all numbers less than avg\n",
        "print (lst)\n"
      ]
    },
    {
      "cell_type": "code",
      "execution_count": null,
      "metadata": {
        "id": "0_N0N1JuWKnG",
        "outputId": "c4b43347-9a4d-4295-d785-edbe1ae34748",
        "colab": {
          "base_uri": "https://localhost:8080/"
        }
      },
      "outputs": [
        {
          "output_type": "stream",
          "name": "stdout",
          "text": [
            "5\n",
            "5\n"
          ]
        }
      ],
      "source": [
        "\n",
        "def \tgetinput():\n",
        "\tval = int(input())\n",
        "\treturn val\n",
        "\n",
        "userval = getinput()\n",
        "print (userval)\n",
        "\n",
        "\n"
      ]
    },
    {
      "cell_type": "markdown",
      "metadata": {
        "id": "lITWzwDvWKnH"
      },
      "source": [
        "### How are the functions called?  \n",
        "#### Compare the below two code segments"
      ]
    },
    {
      "cell_type": "code",
      "execution_count": null,
      "metadata": {
        "id": "umHnrppzWKnH",
        "outputId": "142915e1-aa51-468b-a8f0-212987411d80",
        "colab": {
          "base_uri": "https://localhost:8080/"
        }
      },
      "outputs": [
        {
          "output_type": "stream",
          "name": "stdout",
          "text": [
            "2\n",
            "2\n"
          ]
        }
      ],
      "source": [
        "def \tgetinput():\n",
        "\tval = int(input())\n",
        "\treturn val\n",
        "\n",
        "def \tmain():\n",
        "\tuserval = getinput()\n",
        "\tprint (userval)\n",
        "\n",
        "\n",
        "if __name__ == '__main__':\n",
        "\tmain()\n",
        "\n"
      ]
    },
    {
      "cell_type": "code",
      "execution_count": null,
      "metadata": {
        "id": "VsICJDrOWKnH"
      },
      "outputs": [],
      "source": [
        "def \tgetinput():\n",
        "\tval = int(input())\n",
        "\treturn val\n",
        "\n",
        "def \tmain():\n",
        "\tuserval = getinput()\n",
        "\tprint (userval)\n"
      ]
    },
    {
      "cell_type": "markdown",
      "metadata": {
        "id": "jmSzLch-WKnH"
      },
      "source": [
        "#### <p style=\"font-family: Arial; font-size:1.4em; background-color: yellow; color:black;\"> Problem #1.1 </p>\n",
        "\n",
        "####  Edit the above code cell to run main() function\n",
        "\n",
        "```\n",
        "def \tgetinput():\n",
        "\tval = int(input())\n",
        "\treturn val\n",
        "\n",
        "def \tmain():\n",
        "\tuserval = getinput()\n",
        "\tprint (userval)\n",
        "```"
      ]
    },
    {
      "cell_type": "code",
      "execution_count": null,
      "metadata": {
        "id": "SJP4BNsJWKnH",
        "outputId": "76a9792d-23e1-463b-ed45-85dc3027b4ee",
        "colab": {
          "base_uri": "https://localhost:8080/"
        }
      },
      "outputs": [
        {
          "output_type": "stream",
          "name": "stdout",
          "text": [
            "2\n",
            "2\n"
          ]
        }
      ],
      "source": [
        "# complete the code to run the main function\n",
        "def getinput():\n",
        "  val = int(input())\n",
        "  return val\n",
        "\n",
        "def main():\n",
        "  userval = getinput()\n",
        "  print(userval)\n",
        "\n",
        "if __name__ == '__main__':\n",
        "  main()\n",
        "\n"
      ]
    },
    {
      "cell_type": "markdown",
      "metadata": {
        "id": "HmU2uPeUWKnH"
      },
      "source": [
        "#### <p style=\"font-family: Arial; font-size:1.4em; background-color: yellow; color:black;\"> Problem #1.2 </p>\n",
        "\n",
        "####  Check out this code. This code is working without main() function.\n",
        "#### Explain how this code is working properly without main() function\n",
        "\n",
        "```\n",
        "def \tgetinput():\n",
        "\tval = int(input())\n",
        "\treturn val\n",
        "\n",
        "userval = getinput()\n",
        "print (userval)\n",
        "```"
      ]
    },
    {
      "cell_type": "code",
      "execution_count": null,
      "metadata": {
        "id": "w8s_8X9kWKnH",
        "outputId": "5beb7825-58aa-4aa7-c11a-be98365f5bc6",
        "colab": {
          "base_uri": "https://localhost:8080/"
        }
      },
      "outputs": [
        {
          "output_type": "stream",
          "name": "stdout",
          "text": [
            "2\n",
            "2\n"
          ]
        }
      ],
      "source": [
        "def \tgetinput():\n",
        "\tval = int(input())\n",
        "\treturn val\n",
        "\n",
        "userval = getinput()\n",
        "print (userval)\n"
      ]
    },
    {
      "cell_type": "markdown",
      "metadata": {
        "id": "VXuzTAqPWKnI"
      },
      "source": [
        "## Don't forget to <font color='red'> **\"commit\"** </font> your work or <font color='red'> **\"save\"** </font> in Google Colab\n",
        "## before moving to the next section."
      ]
    },
    {
      "cell_type": "markdown",
      "metadata": {
        "id": "-tdhsjlLWKnI"
      },
      "source": [
        "***\n",
        "\n",
        "## <p style=\"background-color: grey; color: white \"> ◼️  Local Variables </p>\n",
        "# <p style=\"font-family: Arial; font-size:1.4em;color:red;\"> 2. Local Variables </p>\n"
      ]
    },
    {
      "cell_type": "markdown",
      "metadata": {
        "id": "mtxs8F5oWKnI"
      },
      "source": [
        "### Check out the variable \"userval\" after the function call \"getinput()\""
      ]
    },
    {
      "cell_type": "code",
      "execution_count": 1,
      "metadata": {
        "id": "0I9bUgweWKnI",
        "colab": {
          "base_uri": "https://localhost:8080/"
        },
        "outputId": "f02f025f-d4e9-4b39-9823-49fc3b43b954"
      },
      "outputs": [
        {
          "output_type": "stream",
          "name": "stdout",
          "text": [
            "5\n",
            "5\n"
          ]
        }
      ],
      "source": [
        "def \tgetinput():\n",
        "\tval = int(input())\n",
        "\treturn val\n",
        "\n",
        "def \tmain():\n",
        "\tuserval = getinput()\n",
        "\tprint (userval)\n",
        "\t# print (val)\n",
        "\n",
        "if __name__ == '__main__':\n",
        "\tmain()\n",
        "\n"
      ]
    },
    {
      "cell_type": "code",
      "execution_count": 2,
      "metadata": {
        "id": "LmLB1Z8HWKnI",
        "colab": {
          "base_uri": "https://localhost:8080/"
        },
        "outputId": "cf06ddbd-978c-460f-802f-01aaf8f1f8d7"
      },
      "outputs": [
        {
          "output_type": "stream",
          "name": "stdout",
          "text": [
            "30\n"
          ]
        }
      ],
      "source": [
        "def getsum(n1, n2):\n",
        "\tval = n1 + n2\n",
        "\treturn val\n",
        "\n",
        "def main():\n",
        "\ta = 10; b = 20\n",
        "\tuserval = getsum(a, b)\n",
        "\tprint (userval)\n",
        "\n",
        "if __name__ == '__main__':\n",
        "\tmain()\n"
      ]
    },
    {
      "cell_type": "markdown",
      "metadata": {
        "id": "qj-qExozWKnI"
      },
      "source": [
        "<style>\n",
        "\tp {\n",
        "\t\tbackground-color: grey;\n",
        "\t\tcolor: white;\n",
        "\t\tborder: 3px solid grey\n",
        "\n",
        "\t}\n",
        "</style>\n",
        "\n",
        "<p> Making Changes to Parameters </p>\n"
      ]
    },
    {
      "cell_type": "markdown",
      "metadata": {
        "id": "vJnDyDB1WKnI"
      },
      "source": [
        "#### <p style=\"font-family: Arial; font-size:1.4em; background-color: yellow; color:black;\"> Problem #2.1 </p>\n",
        "\n",
        "####  Check out this code. After the function call \"getinput()\" at the line 8 in the main function,  \n",
        "#### show the  values \"a\" and \"b\"\n"
      ]
    },
    {
      "cell_type": "code",
      "execution_count": 3,
      "metadata": {
        "id": "VvR5l1W-WKnJ",
        "colab": {
          "base_uri": "https://localhost:8080/"
        },
        "outputId": "850349fd-aa4b-4f83-9419-86437857ed0e"
      },
      "outputs": [
        {
          "output_type": "stream",
          "name": "stdout",
          "text": [
            "4\n",
            "5\n",
            "The value of parameter n1 and n2 are 4 and 5\n",
            "The value of a and b are 0 and 0\n"
          ]
        }
      ],
      "source": [
        "\n",
        "def getinput(n1, n2):\n",
        "\tn1 = input()\n",
        "\tn2 = input()\n",
        "\tprint (\"The value of parameter n1 and n2 are {0} and {1}\".format(n1, n2))\n",
        "\n",
        "def main():\n",
        "\ta = 0; b = 0\n",
        "\tgetinput(a, b)\n",
        "\tprint (\"The value of a and b are {0} and {1}\".format(a, b))\n",
        "\n",
        "if __name__ == '__main__':\n",
        "\tmain()\n"
      ]
    },
    {
      "cell_type": "markdown",
      "metadata": {
        "id": "LzMXlrXSWKnJ"
      },
      "source": [
        "### <mark> Explain why both values are 0 </mark>\n",
        "\n",
        "- Both values are 0 because main initializes both values to zero instead of assigning them to the returned values of the function."
      ]
    },
    {
      "cell_type": "markdown",
      "metadata": {
        "id": "3izr8a7QWKnJ"
      },
      "source": [
        "---\n",
        "#### <p style=\"font-family: Arial; font-size:1.4em; background-color: yellow; color:black;\"> Problem #2.2 </p>\n",
        "\n",
        "####  Check out this code. After the function call \"getinput()\" in the main function,  \n",
        "#### show the  values \"list1\". Explain the result.\n",
        "### In problem 2.1, there were no changes even though the values were altered in the function getinput().\n",
        "### In this code, when you assign the values to the list \"l1\", these changes affect to the main function.\n"
      ]
    },
    {
      "cell_type": "markdown",
      "metadata": {
        "id": "G0FMQEKNWKnJ"
      },
      "source": [
        "<style>\n",
        "\tp {\n",
        "\t\tbackground-color: grey;\n",
        "\t\tcolor: white;\n",
        "\t\tborder: 3px solid grey\n",
        "\n",
        "\t}\n",
        "</style>\n",
        "\n",
        "<p> Making Changes to Parameters 2 </p>\n"
      ]
    },
    {
      "cell_type": "code",
      "execution_count": 4,
      "metadata": {
        "id": "I2zOiYWJWKnJ",
        "colab": {
          "base_uri": "https://localhost:8080/"
        },
        "outputId": "9ea04036-71de-44dd-8680-d8c26b8852e4"
      },
      "outputs": [
        {
          "output_type": "stream",
          "name": "stdout",
          "text": [
            "4\n",
            "5\n",
            "4\n",
            "The value of parameter l1  ['4', '5', '4']\n",
            "The value of list1 ['4', '5', '4']\n"
          ]
        }
      ],
      "source": [
        "\n",
        "def getinput(l1):\n",
        "\tl1.append(input())\n",
        "\tl1.append(input())\n",
        "\tl1.append(input())\n",
        "\tprint (\"The value of parameter l1 \", l1)\n",
        "\n",
        "def main():\n",
        "\tlist1 = []\n",
        "\tgetinput(list1)\n",
        "\tprint (\"The value of list1\", list1);\n",
        "\n",
        "if __name__ == '__main__':\n",
        "\tmain()\n"
      ]
    },
    {
      "cell_type": "markdown",
      "metadata": {
        "id": "rh4SZ_A8WKnJ"
      },
      "source": [
        "## Answer the question 2.2 here\n",
        "- The list is used as the input for the function call. Then the function appends the user's input numbers to the list and returns those values back to the list in main."
      ]
    },
    {
      "cell_type": "markdown",
      "metadata": {
        "id": "apwcUbSIWKnJ"
      },
      "source": [
        "---\n",
        "#### <p style=\"font-family: Arial; font-size:1.4em; background-color: yellow; color:black;\"> Problem #2.3 </p>\n",
        "\n",
        "####  Check out this code.\n",
        "####  Can we return multiple values in the function?\n"
      ]
    },
    {
      "cell_type": "markdown",
      "metadata": {
        "id": "WEbKJk41WKnJ"
      },
      "source": [
        "<style>\n",
        "\tp {\n",
        "\t\tbackground-color: grey;\n",
        "\t\tcolor: white;\n",
        "\t\tborder: 3px solid grey\n",
        "\n",
        "\t}\n",
        "</style>\n",
        "\n",
        "<p> Returning multiple values</p>\n"
      ]
    },
    {
      "cell_type": "code",
      "execution_count": 5,
      "metadata": {
        "id": "2AAN_pZLWKnJ",
        "colab": {
          "base_uri": "https://localhost:8080/"
        },
        "outputId": "544f6d43-5b90-40a2-d7ba-6e7278add87d"
      },
      "outputs": [
        {
          "output_type": "stream",
          "name": "stdout",
          "text": [
            "4\n",
            "5\n",
            "The value of num1 and num2 are 4 and 5\n"
          ]
        }
      ],
      "source": [
        "\n",
        "def getinput():\n",
        "\tval1 = input()\n",
        "\tval2 = input()\n",
        "\treturn val1, val2\n",
        "\n",
        "def main():\n",
        "\tnum1, num2 = getinput()\n",
        "\tprint (\"The value of num1 and num2 are {0} and {1}\".format(num1, num2))\n",
        "\n",
        "if __name__ == '__main__':\n",
        "\tmain()\n"
      ]
    },
    {
      "cell_type": "markdown",
      "metadata": {
        "id": "np6W9gC6WKnK"
      },
      "source": [
        "## Answer the question 2.3 here\n",
        "- Yes, you can return multiple values with a function as long as you call the function with the same number of inputs."
      ]
    },
    {
      "cell_type": "markdown",
      "metadata": {
        "id": "ALx0VR-UWKnK"
      },
      "source": [
        "---\n",
        "#### <p style=\"font-family: Arial; font-size:1.4em; background-color: yellow; color:black;\"> Problem #2.4 </p>\n",
        "\n",
        "####  Print the local variable that was used in the function getsum() in the main() function.\n",
        "####  Can we print the same value ? Errors? Why?\n",
        "#### Suggest how we can print the 'total' of the function getsum() in the main()\n"
      ]
    },
    {
      "cell_type": "code",
      "execution_count": 6,
      "metadata": {
        "id": "tb5VerqZWKnK",
        "colab": {
          "base_uri": "https://localhost:8080/"
        },
        "outputId": "23ded909-2a51-4ef7-b529-68dbf1fa5fbe"
      },
      "outputs": [
        {
          "output_type": "stream",
          "name": "stdout",
          "text": [
            "Total is 30\n",
            "Total is 0\n"
          ]
        }
      ],
      "source": [
        "def getsum(n1, n2):\n",
        "    total = n1 + n2\n",
        "    print(f'Total is {total}')\n",
        "\n",
        "def main():\n",
        "    total = 0\n",
        "    num1 = 10\n",
        "    num2 = 20\n",
        "    getsum(num1, num2)\n",
        "    print(f'Total is {total}')\n",
        "\n",
        "if __name__ == '__main__':\n",
        "    main()"
      ]
    },
    {
      "cell_type": "markdown",
      "metadata": {
        "id": "jgy2FLjcWKnK"
      },
      "source": [
        "## Answer the question 2.4 here\n",
        "- You can get the total from the function by calling the function getsum with total as the input, and return the value of the summation to total."
      ]
    },
    {
      "cell_type": "markdown",
      "metadata": {
        "id": "WRS3cFCoWKnK"
      },
      "source": [
        "---\n",
        "## Don't forget to <font color='red'> **\"commit\"** </font> your work or <font color='red'> **\"save\"** </font> in Google Colab\n",
        "## before moving to the next section."
      ]
    },
    {
      "cell_type": "markdown",
      "metadata": {
        "id": "VEV0rVBkWKnK"
      },
      "source": [
        "<style>\n",
        "\tp {\n",
        "\t\tbackground-color: grey;\n",
        "\t\tcolor: white;\n",
        "\t\tborder: 3px solid grey\n",
        "\n",
        "\t}\n",
        "</style>\n",
        "\n",
        "<p> Keyword Arguments </p>\n"
      ]
    },
    {
      "cell_type": "markdown",
      "metadata": {
        "id": "xc1QhV7VWKnK"
      },
      "source": [
        "***\n",
        "## <p style=\"background-color: grey; color: white \"> ◼️  Keyworded Arguments </p>\n",
        "# <p style=\"font-family: Arial; font-size:1.4em;color:red;\"> 3. Keyworded Arguments</p>\n"
      ]
    },
    {
      "cell_type": "markdown",
      "metadata": {
        "id": "-YrFzbFXWKnO"
      },
      "source": [
        "#### The parameter order can be changed if the keyworded arguments are used"
      ]
    },
    {
      "cell_type": "code",
      "execution_count": 7,
      "metadata": {
        "id": "T1gfYElhWKnP",
        "colab": {
          "base_uri": "https://localhost:8080/"
        },
        "outputId": "ab808b19-7e48-4bdc-ea2a-83ce28b9e799"
      },
      "outputs": [
        {
          "output_type": "stream",
          "name": "stdout",
          "text": [
            "The first parameter n1 is 200\n",
            "The second parameter n2 is 100\n",
            "The total is 300\n",
            "The value of total is 300\n"
          ]
        }
      ],
      "source": [
        "\n",
        "def getsum(n1, n2):\n",
        "\tprint (f'The first parameter n1 is {n1}')\n",
        "\tprint (f'The second parameter n2 is {n2}')\n",
        "\ttotal = n1 + n2\n",
        "\tprint (f'The total is {total}')\n",
        "\treturn total\n",
        "\n",
        "def main():\n",
        "\ttotal = getsum(n2=100, n1=200)\t# giving the second parameter first\n",
        "\tprint (f'The value of total is {total}')\n",
        "\n",
        "if __name__ == '__main__':\n",
        "\tmain()"
      ]
    },
    {
      "cell_type": "markdown",
      "metadata": {
        "id": "aRdvbxAoWKnP"
      },
      "source": [
        "#### <p style=\"font-family: Arial; font-size:1.4em; background-color: yellow; color:black;\"> Problem #3.1 </p>\n",
        "\n",
        "### The function setListValues() will work to make the mylst that has the values 100, 200 and 300\n",
        "####  Complete the function call to make the list as following\n",
        "```\n",
        "mylst = [100, 200, 300]\n"
      ]
    },
    {
      "cell_type": "code",
      "execution_count": 15,
      "metadata": {
        "id": "he2DzTfzWKnP",
        "colab": {
          "base_uri": "https://localhost:8080/"
        },
        "outputId": "25e06ad2-549f-4593-96fc-f7dfc4adc318"
      },
      "outputs": [
        {
          "output_type": "stream",
          "name": "stdout",
          "text": [
            "[100, 200, 300]\n"
          ]
        }
      ],
      "source": [
        "def setListValues(first_element, second_element, third_element):\n",
        "    mylst=[]\n",
        "    mylst.append(first_element)\n",
        "    mylst.append(second_element)\n",
        "    mylst.append(third_element)\n",
        "    return mylst\n",
        "\n",
        "def main():\n",
        "    mylst = setListValues(third_element= 300,\n",
        "                  second_element= 200,\n",
        "                  first_element= 100)\n",
        "    print(mylst)\n",
        "\n",
        "if __name__ == '__main__':\n",
        "    main()\n"
      ]
    },
    {
      "cell_type": "markdown",
      "metadata": {
        "id": "lB9nLKB4WKnP"
      },
      "source": [
        "### Follow up Question\n",
        "\n",
        "### Is the list \"mylst\" in function \"setListValues()\" as the one in \"main\"?\n",
        "----"
      ]
    },
    {
      "cell_type": "markdown",
      "metadata": {
        "id": "6hluyAgPWKnP"
      },
      "source": [
        "### Your Answer : No, the list in the function is not the same as the one in main, as the one in the function can return a different value if used again while the one in main carries the same value.\n",
        "---"
      ]
    },
    {
      "cell_type": "markdown",
      "metadata": {
        "id": "TQsAJ2_iWKnP"
      },
      "source": [
        "## Don't forget to <font color='red'> **\"commit\"** </font> your work or <font color='red'> **\"save\"** </font> in Google Colab\n",
        "## before moving to the next section."
      ]
    },
    {
      "cell_type": "markdown",
      "metadata": {
        "id": "jrFHQQ4vWKnQ"
      },
      "source": [
        "***\n",
        "## <p style=\"background-color: grey; color: white \"> ◼️  Global Variables </p>\n",
        "# <p style=\"font-family: Arial; font-size:1.4em;color:red;\"> 4. Global Variables</p>\n"
      ]
    },
    {
      "cell_type": "markdown",
      "metadata": {
        "id": "mYojwh4kWKnQ"
      },
      "source": [
        "<style>\n",
        "\tp {\n",
        "\t\tbackground-color: grey;\n",
        "\t\tcolor: white;\n",
        "\t\tborder: 3px solid grey\n",
        "\n",
        "\t}\n",
        "</style>\n",
        "\n",
        "<p> Global Variables </p>\n",
        "\n",
        "Run the below code and check out the values <mark> gvar </mark>\n"
      ]
    },
    {
      "cell_type": "code",
      "execution_count": 16,
      "metadata": {
        "id": "Q3JQbyGCWKnQ",
        "colab": {
          "base_uri": "https://localhost:8080/"
        },
        "outputId": "4ddaadaf-2694-4ecc-c53d-f50cdb4f39ae"
      },
      "outputs": [
        {
          "output_type": "stream",
          "name": "stdout",
          "text": [
            "Before call myfunction1  100\n",
            "Inside the function  111\n",
            "After call myfunction1  111\n"
          ]
        }
      ],
      "source": [
        "gvar = 100\n",
        "\n",
        "def myfunction1():\n",
        "\tprint ('Inside the function ', gvar)\n",
        "\n",
        "\n",
        "def main():\n",
        "\tglobal gvar\n",
        "\tprint ('Before call myfunction1 ', gvar)\n",
        "\tgvar += 11\n",
        "\n",
        "\tmyfunction1()\n",
        "\tprint ('After call myfunction1 ', gvar)\n",
        "\n",
        "if __name__ == '__main__':\n",
        "\tmain()"
      ]
    },
    {
      "cell_type": "markdown",
      "metadata": {
        "id": "ttNbaeY7WKnQ"
      },
      "source": [
        "#### <p style=\"font-family: Arial; font-size:1.4em; background-color: yellow; color:black;\"> Problem #4.1 </p>\n",
        "\n",
        "####  Explain the printed the value of \"gvar\"  \n"
      ]
    },
    {
      "cell_type": "code",
      "execution_count": 17,
      "metadata": {
        "id": "zmHcm1qVWKnQ",
        "outputId": "243b1e58-4157-4bb3-a724-7a04480ead7b",
        "colab": {
          "base_uri": "https://localhost:8080/"
        }
      },
      "outputs": [
        {
          "output_type": "stream",
          "name": "stdout",
          "text": [
            "Before call myfunction1  100\n",
            "After call myfunction1  101\n",
            "After increasing by 1 in main function 102\n"
          ]
        }
      ],
      "source": [
        "gvar = 100\n",
        "\n",
        "def myfunction1():\n",
        "    global gvar\n",
        "    gvar += 1\n",
        "\n",
        "def main():\n",
        "\tglobal gvar\n",
        "\tprint ('Before call myfunction1 ', gvar)\n",
        "\tmyfunction1()\n",
        "\tprint ('After call myfunction1 ', gvar)\n",
        "\tgvar += 1\n",
        "\tprint ('After increasing by 1 in main function', gvar)\n",
        "\n",
        "if __name__ == '__main__':\n",
        "\tmain()"
      ]
    },
    {
      "cell_type": "markdown",
      "source": [
        "The printed value of gvar is 101 the first time because the function increments the value by one, the second time one is added to the value leadint to the result 102. The value gvar is shared throughout the code because it is a global variable."
      ],
      "metadata": {
        "id": "ijPNIkL7heXH"
      }
    },
    {
      "cell_type": "markdown",
      "metadata": {
        "id": "pFGQ_S_nWKnQ"
      },
      "source": [
        "#### <p style=\"font-family: Arial; font-size:1.4em; background-color: yellow; color:black;\"> Problem #4.2 </p>\n",
        "\n",
        "####  Explain the printed the value of \"gvar\" is 100 even though it has been increased by 1 in the myfuntion1()\n"
      ]
    },
    {
      "cell_type": "code",
      "execution_count": 18,
      "metadata": {
        "id": "soSzRpCgWKnQ",
        "outputId": "15196d4d-d2b2-469d-e896-f6d67ecc67fe",
        "colab": {
          "base_uri": "https://localhost:8080/"
        }
      },
      "outputs": [
        {
          "output_type": "stream",
          "name": "stdout",
          "text": [
            "Before call myfunction1  100\n",
            "After call myfunction1  100\n"
          ]
        }
      ],
      "source": [
        "gvar = 100\n",
        "\n",
        "def myfunction1():\n",
        "    gvar = 0\n",
        "    gvar += 1\n",
        "\n",
        "def main():\n",
        "\tglobal gvar\n",
        "\tprint ('Before call myfunction1 ', gvar)\n",
        "\tmyfunction1()\n",
        "\tprint ('After call myfunction1 ', gvar)\n",
        "\n",
        "if __name__ == '__main__':\n",
        "\tmain()"
      ]
    },
    {
      "cell_type": "markdown",
      "source": [
        "The value of gvar is the same because the function was called without using gvar as an input variable, the function also does not return any value, so gvar keeps its 100 variable value."
      ],
      "metadata": {
        "id": "q4xcS7QPiEhi"
      }
    },
    {
      "cell_type": "markdown",
      "metadata": {
        "id": "ZjjkNMRkWKnR"
      },
      "source": [
        "#### <p style=\"font-family: Arial; font-size:1.4em; background-color: yellow; color:black;\"> Problem #4.3 </p>\n",
        "\n",
        "####  Explain why this code encounters error\n",
        "####  Fix the Errors and show the complete code\n"
      ]
    },
    {
      "cell_type": "code",
      "execution_count": 29,
      "metadata": {
        "id": "LzDkP_n-WKnR",
        "colab": {
          "base_uri": "https://localhost:8080/"
        },
        "outputId": "0db14e54-57bf-406f-fb89-6ac8f0058079"
      },
      "outputs": [
        {
          "output_type": "stream",
          "name": "stdout",
          "text": [
            "Before call myfunction1  100\n",
            "After call myfunction1  101\n"
          ]
        }
      ],
      "source": [
        "gvar = 100\n",
        "\n",
        "def myfunction1():\n",
        "\tglobal gvar\n",
        "\tgvar += 1\n",
        "\n",
        "def main():\n",
        "\tglobal gvar\n",
        "\tprint ('Before call myfunction1 ', gvar)\n",
        "\tmyfunction1()\n",
        "\tprint ('After call myfunction1 ', gvar)\n",
        "\n",
        "if __name__ == '__main__':\n",
        "\tmain()"
      ]
    },
    {
      "cell_type": "code",
      "execution_count": 25,
      "metadata": {
        "id": "gwaFhZ0UWKnR"
      },
      "outputs": [],
      "source": [
        "# Fix the errors and show the complete code here\n"
      ]
    },
    {
      "cell_type": "markdown",
      "metadata": {
        "id": "tEixtOJvWKnR"
      },
      "source": [
        "## Please <font color='red'> **\"commit\"** </font> your work or <font color='red'> **\"save\"** </font> in Google Colab\n",
        "## before moving to the next section."
      ]
    },
    {
      "cell_type": "markdown",
      "metadata": {
        "id": "EPARoQ0fWKnS"
      },
      "source": [
        "***\n",
        "## <p style=\"background-color: grey; color: white \"> ◼️  Arbitrary Arguments and Keyword Arguments</p>\n",
        "# <p style=\"font-family: Arial; font-size:1.4em;color:red;\"> 5. Arbitrary Arguments and Keyword Arguments</p>\n"
      ]
    },
    {
      "cell_type": "markdown",
      "metadata": {
        "id": "YFGSvlY5WKnS"
      },
      "source": [
        "## Arbitrary Argument\n",
        "\n",
        "### An arbitrary argument in Python allows a function to accept an unspecified number of arguments using *args for non-keyword arguments or **kwargs for keyword arguments"
      ]
    },
    {
      "cell_type": "markdown",
      "metadata": {
        "id": "8ZxCd8LQWKnS"
      },
      "source": [
        "### Arbitrary Arguments (*args):\n",
        "```\n",
        "* is used to allow a function to accept an arbitrary number of positional arguments.\n",
        "```\n",
        "\n",
        "Basic Example"
      ]
    },
    {
      "cell_type": "code",
      "execution_count": 30,
      "metadata": {
        "id": "o5rd5rRAWKnS",
        "colab": {
          "base_uri": "https://localhost:8080/"
        },
        "outputId": "1162e412-13ae-469b-b302-8f33084435a2"
      },
      "outputs": [
        {
          "output_type": "stream",
          "name": "stdout",
          "text": [
            "Hello, Alice!\n",
            "Hello, Bob!\n",
            "Hello, Charlie!\n"
          ]
        }
      ],
      "source": [
        "def greet(*args):\n",
        "    for name in args:\n",
        "        print(f\"Hello, {name}!\")\n",
        "\n",
        "greet(\"Alice\", \"Bob\", \"Charlie\")\n"
      ]
    },
    {
      "cell_type": "markdown",
      "metadata": {
        "id": "336llXmRWKnS"
      },
      "source": [
        "#### Understanding the function type()"
      ]
    },
    {
      "cell_type": "code",
      "execution_count": 31,
      "metadata": {
        "id": "O20Cs8nGWKnS",
        "colab": {
          "base_uri": "https://localhost:8080/"
        },
        "outputId": "2e640410-cede-4300-baad-cfefa0a5df02"
      },
      "outputs": [
        {
          "output_type": "execute_result",
          "data": {
            "text/plain": [
              "int"
            ]
          },
          "metadata": {},
          "execution_count": 31
        }
      ],
      "source": [
        "number = 10\n",
        "type(number)"
      ]
    },
    {
      "cell_type": "markdown",
      "metadata": {
        "id": "0Vm7PN9fWKnS"
      },
      "source": [
        "### Check the data type for the arbitrary argument\n"
      ]
    },
    {
      "cell_type": "markdown",
      "metadata": {
        "id": "CgzeGgGtWKnT"
      },
      "source": [
        "#### <p style=\"font-family: Arial; font-size:1.4em; background-color: yellow; color:black;\"> Problem #5.1 </p>\n",
        "\n",
        "####  Check the printed data type.  \n",
        "####  Type the printed data type in the below\n"
      ]
    },
    {
      "cell_type": "code",
      "execution_count": 32,
      "metadata": {
        "id": "gJH35qx4WKnT",
        "colab": {
          "base_uri": "https://localhost:8080/"
        },
        "outputId": "e0459ef6-b4a2-4ef6-d14f-20cf208b6451"
      },
      "outputs": [
        {
          "output_type": "stream",
          "name": "stdout",
          "text": [
            "<class 'tuple'>\n",
            "(10, 20, 30)\n",
            "10\t20\t30\t"
          ]
        }
      ],
      "source": [
        "def myfunction(*values):\n",
        "    print(type(values))\n",
        "    print (values)\n",
        "    for v in values:\n",
        "        print (v, end='\\t')\n",
        "\n",
        "n1 = 10; n2 = 20; n3=30;\n",
        "myfunction(n1, n2, n3)"
      ]
    },
    {
      "cell_type": "markdown",
      "metadata": {
        "id": "67QzHFyYWKnT"
      },
      "source": [
        "#### <mark> Type your answer here </mark>\n",
        "- The values in the function are integers and strings values."
      ]
    },
    {
      "cell_type": "markdown",
      "metadata": {
        "id": "0aLZUFUHWKnT"
      },
      "source": [
        "***\n",
        "#### <p style=\"font-family: Arial; font-size:1.4em; background-color: yellow; color:black;\"> Problem #5.2 </p>\n",
        "\n",
        "####  Check the printed data type.  \n",
        "####  Type the printed data type in the below\n"
      ]
    },
    {
      "cell_type": "code",
      "execution_count": 33,
      "metadata": {
        "id": "FHJYPHs0WKnT",
        "outputId": "019ff2e0-e00f-4024-9512-b48b72c4230f",
        "colab": {
          "base_uri": "https://localhost:8080/"
        }
      },
      "outputs": [
        {
          "output_type": "stream",
          "name": "stdout",
          "text": [
            "<class 'list'> It has been printed in the main()\n",
            "<class 'tuple'> It has been printed in the funtion myfuntion()\n",
            "The value of args is  ([10, 20, 30],)\n",
            "[10, 20, 30]\t \n"
          ]
        }
      ],
      "source": [
        "def myfunction(*args):\n",
        "    print(type(args), 'It has been printed in the funtion myfuntion()') # type the printed data type in the below cell\n",
        "    print ('The value of args is ', args)\n",
        "    for v in args:\n",
        "        print (v, end='\\t')\n",
        "    print(' ')\n",
        "def main():\n",
        "    values = [10, 20, 30]\n",
        "    print (type(values), 'It has been printed in the main()')    # type the printed data type in the below cell\n",
        "    myfunction(values)\n",
        "\n",
        "if __name__ == '__main__':\n",
        "    main()\n"
      ]
    },
    {
      "cell_type": "markdown",
      "metadata": {
        "id": "kUpnbUUSWKnT"
      },
      "source": [
        "#### <mark> Type your answer here </mark>\n",
        "\n",
        "### Are the two printed data types same?\n",
        "\n",
        "- What is the data type printed in main()?\n",
        "  The data type printed in main are integers printed from a list.\n",
        "- What is the data type printed in myfunction()?\n",
        "  The data type printed in the function is a \"tuple\" type or arbitrary type.\n",
        "- How many elements are there in the tuple \"args\" ?\n",
        "  There are three elements in tuple \"args\".\n",
        "- What is the data type of <mark> element </mark> in the tuple \"args\" ?\n",
        "  The data type is still a list of integers.\n",
        "- How many elements are there in the list \"values\" ?  How many iterations are occured in the for loop of myfuntion()? Why? Explain it.\n",
        "There are three elements in the list and the for loop executed 1 time as the only printed statement was the list."
      ]
    },
    {
      "cell_type": "markdown",
      "metadata": {
        "id": "VMyf4PZYWKnU"
      },
      "source": [
        "***\n",
        "#### <p style=\"font-family: Arial; font-size:1.4em; background-color: yellow; color:black;\"> Problem #5.3 </p>\n",
        "\n",
        "####  Check the printed data type and clarify the difference printed output values between two function calls\n",
        "####  \n"
      ]
    },
    {
      "cell_type": "code",
      "execution_count": 34,
      "metadata": {
        "id": "SQ-MPKiMWKnU",
        "outputId": "bc3910e2-1c56-4af3-98da-742c8e903190",
        "colab": {
          "base_uri": "https://localhost:8080/"
        }
      },
      "outputs": [
        {
          "output_type": "stream",
          "name": "stdout",
          "text": [
            "<class 'tuple'>\n",
            "([10, 20, 30],)\n",
            "[10, 20, 30]\t\n",
            "<class 'tuple'>\n",
            "(10, 20, 30)\n",
            "10\t20\t30\t\n"
          ]
        }
      ],
      "source": [
        "def myfunction(*values):\n",
        "    print(type(values)) # type the printed data type in the below cell\n",
        "    print (values)\n",
        "    for v in values:\n",
        "        print (v, end='\\t')\n",
        "    print()\n",
        "\n",
        "def main():\n",
        "    values = [10, 20, 30]\n",
        "    myfunction(values)          # It prints (10, 20, 30)    Why ?\n",
        "\n",
        "    val1 = 10 ; val2 = 20; val3 = 30;\n",
        "    myfunction(val1, val2, val3)        # It prints 10 20 30 ; Why?\n",
        "if __name__ == '__main__':\n",
        "    main()\n"
      ]
    },
    {
      "cell_type": "markdown",
      "metadata": {
        "id": "iTRvlQxdWKnU"
      },
      "source": [
        "#### <mark> Type your answer here </mark>\n",
        "\n",
        "### Are the two printed data types same?\n",
        "\n",
        "- What is the data type printed in main()?\n",
        "The data type is an arbitrary type of \"tuple\"\n",
        "- What is the data type printed in myfunction()?\n",
        "The data type is also abitrary and of type \"tuple\".\n",
        "- How many elements are there in the tuple 'values' at each call myfunction() ? How many iterations are occured in the for-loop? why?\n",
        "There are three elements at each call of the function and the number of iterations for the for loop is 3 times as it prints three statements."
      ]
    },
    {
      "cell_type": "markdown",
      "metadata": {
        "id": "I0d6cPxnWKnV"
      },
      "source": [
        "***\n",
        "#### <p style=\"font-family: Arial; font-size:1.4em; background-color: yellow; color:black;\"> Problem #5.4 </p>\n",
        "\n",
        "####  Clarify the differences between two functions \"myfn1\" and \"myfn2\"\n",
        "####  Answer in the below markdown cell.\n"
      ]
    },
    {
      "cell_type": "code",
      "execution_count": 35,
      "metadata": {
        "id": "sShtt3PbWKnV",
        "colab": {
          "base_uri": "https://localhost:8080/"
        },
        "outputId": "296d8b09-8ad2-4ea6-acfb-aba1f584403f"
      },
      "outputs": [
        {
          "output_type": "stream",
          "name": "stdout",
          "text": [
            "<class 'tuple'>\n",
            "[10, 20, 30]\t\n",
            "<class 'list'>\n",
            "10\t20\t30\t"
          ]
        }
      ],
      "source": [
        "def myfn1(*values):\n",
        "    print (type(values))\n",
        "    for v in values:\n",
        "        print (v, end='\\t')\n",
        "\n",
        "def myfn2(values):\n",
        "    print (type(values))\n",
        "    for v in values:\n",
        "        print (v, end='\\t')\n",
        "\n",
        "values = [10, 20, 30]\n",
        "myfn1(values)\n",
        "print()\n",
        "myfn2(values)"
      ]
    },
    {
      "cell_type": "markdown",
      "metadata": {
        "id": "6b09QUgYWKnV"
      },
      "source": [
        "#### <mark> Type your answer here </mark>\n",
        "\n",
        "### Are the two printed data types same?\n",
        "\n",
        "- Are the printed values are same? If not, why?\n",
        "The printed values are not the same as they are of different types, one \"tuple\" and one \"list\". The \"tuple\" value prints as a list, while the list value prints as string values.\n",
        "***"
      ]
    },
    {
      "cell_type": "markdown",
      "metadata": {
        "id": "3jOFkrFJWKnV"
      },
      "source": [
        "## Unpacking Operator:\n",
        "\n",
        "### <mark> * </mark> is used to unpack elements from a list or tuple into separate variables or to pass multiple arguments to a function."
      ]
    },
    {
      "cell_type": "code",
      "execution_count": 36,
      "metadata": {
        "id": "qlxue0tlWKnV",
        "colab": {
          "base_uri": "https://localhost:8080/"
        },
        "outputId": "fa70bfe7-16b9-4843-f1bd-1a30a41bb00e"
      },
      "outputs": [
        {
          "output_type": "stream",
          "name": "stdout",
          "text": [
            "[10, 20, 30]\n",
            "10 20 30\n"
          ]
        }
      ],
      "source": [
        "# check out the difference between two print statements\n",
        "numbers = [10, 20, 30]\n",
        "print (numbers)\n",
        "print (*numbers)\n"
      ]
    },
    {
      "cell_type": "markdown",
      "metadata": {
        "id": "58m8kL-5WKnV"
      },
      "source": [
        "***\n",
        "#### <p style=\"font-family: Arial; font-size:1.4em; background-color: yellow; color:black;\"> Problem #5.5 </p>\n",
        "\n",
        "####  Clarify the differences of the printed output between two functions \"myfn1\" and \"myfn2\"\n",
        "####  Answer in the below markdown cell.\n"
      ]
    },
    {
      "cell_type": "code",
      "execution_count": 37,
      "metadata": {
        "id": "0ySkpy0bWKnV",
        "colab": {
          "base_uri": "https://localhost:8080/"
        },
        "outputId": "7d6351da-6fe2-4889-aaf9-674643ea96a1"
      },
      "outputs": [
        {
          "output_type": "stream",
          "name": "stdout",
          "text": [
            "10 20 30\n",
            "[10, 20, 30]\n",
            "10 20 30 \n"
          ]
        }
      ],
      "source": [
        "def myfn1(n1, n2, n3):\n",
        "    print (n1, n2, n3)\n",
        "\n",
        "def myfn2(val):\n",
        "    print (val)\n",
        "    for v in val:\n",
        "        print (v, end=' ')\n",
        "    print()\n",
        "\n",
        "numbers = [10, 20, 30]\n",
        "myfn1(*numbers)\n",
        "myfn2(numbers)"
      ]
    },
    {
      "cell_type": "markdown",
      "metadata": {
        "id": "lwG3FXO6WKnW"
      },
      "source": [
        "#### <mark> Type your answer here </mark>\n",
        "\n",
        "### Are the two printed output same?\n",
        "\n",
        "- Are the printed values are same? If not, why?  <br>\n",
        "The values are the same, as the arbitrary is unpacked as a integer value like the other function.\n",
        "- Is it possible to call function myfn1() ? Clarify your answer<br>  \n",
        "``` myfn1(numbers) ```\n",
        "Yes, it is possible to call the function as the function accepts integer type values.\n",
        "- Is it possible to call function myfn2() ? Clarify your answer <br>\n",
        "``` myfn2(*numbers) ```\n",
        "Yes, it is possible to call the function with an unpacked arbitrary value as long as it is a list.\n",
        "\n",
        "***"
      ]
    },
    {
      "cell_type": "markdown",
      "metadata": {
        "id": "aJ83GFJjWKnW"
      },
      "source": [
        "***"
      ]
    },
    {
      "cell_type": "markdown",
      "metadata": {
        "id": "Effoc0VaWKnW"
      },
      "source": [
        "# Keyword Arguments (**args):\n",
        "```\n",
        "* is used to allow a function to accept an arbitrary number of positional arguments.\n",
        "```\n",
        "\n",
        "Basic Example"
      ]
    },
    {
      "cell_type": "markdown",
      "metadata": {
        "id": "76866yupWKnW"
      },
      "source": [
        "***\n",
        "#### <p style=\"font-family: Arial; font-size:1.4em; background-color: yellow; color:black;\"> Problem #5.5 </p>\n",
        "\n",
        "####  Run the below code cell  \n",
        "####  Answer in the below markdown cell.\n"
      ]
    },
    {
      "cell_type": "markdown",
      "metadata": {
        "id": "vXhM-k98WKnW"
      },
      "source": [
        "### **kwargs\n",
        "## Run the following code and learn about the keyword argument"
      ]
    },
    {
      "cell_type": "code",
      "execution_count": 38,
      "metadata": {
        "id": "Jk3VNvi8WKnX",
        "colab": {
          "base_uri": "https://localhost:8080/"
        },
        "outputId": "f0c5c607-d5e1-4a25-afc5-6f05c641b76d"
      },
      "outputs": [
        {
          "output_type": "stream",
          "name": "stdout",
          "text": [
            "<class 'dict'> The type of kwargs\n",
            "True <--- If this is true, kwargs is a dictionary \n",
            "first -> California\n",
            "mid -> Community\n",
            "last -> College\n"
          ]
        }
      ],
      "source": [
        "def myFun(**kwargs):\n",
        "\tprint (type(kwargs), 'The type of kwargs')\n",
        "\tprint (isinstance(kwargs, dict), '<--- If this is true, kwargs is a dictionary ')\n",
        "\tfor key, value in kwargs.items():\n",
        "\t\tprint (\"%s -> %s\" %(key, value))\n",
        "\n",
        "\n",
        "myFun(first ='California', mid ='Community', last='College')\n"
      ]
    },
    {
      "cell_type": "markdown",
      "metadata": {
        "id": "HfJSV76oWKnX"
      },
      "source": [
        "\n",
        "-  What is the type of \"kwargs\" ? <br>\n",
        "-  Is it true \"isinstance(kwargs, dict) ?  <br>"
      ]
    },
    {
      "cell_type": "markdown",
      "metadata": {
        "id": "1Jm63il7WKnX"
      },
      "source": [
        "#### <mark> Type your answer here </mark>\n",
        "- The type of kwargs is of \"dict\", or dictionary type.\n",
        "\n",
        "Yes, it is true, which is why kwargs prints as a dictionary type.\n",
        "-\n",
        "-\n",
        "***"
      ]
    },
    {
      "cell_type": "markdown",
      "metadata": {
        "id": "FGLEKznqWKnX"
      },
      "source": [
        "#### <p style=\"font-family: Arial; font-size:1.4em; background-color: yellow; color:black;\"> Problem #5.6 </p>\n",
        "\n",
        "####  Call the function myFun( ) with the following code\n",
        "``` myFun(mid ='Community', last='College', first ='California') ```\n",
        "\n",
        "#### And explain the output. Was output printed from \"first\" key value or \"mid\" key value?\n"
      ]
    },
    {
      "cell_type": "code",
      "execution_count": 40,
      "metadata": {
        "id": "L9JDXGF4WKnX",
        "colab": {
          "base_uri": "https://localhost:8080/"
        },
        "outputId": "ab438cd1-da8c-4f7a-9a6c-1ed44a50460a"
      },
      "outputs": [
        {
          "output_type": "stream",
          "name": "stdout",
          "text": [
            "mid -> Community\n",
            "last -> College\n",
            "first -> California\n"
          ]
        }
      ],
      "source": [
        "def myFun(**kwargs):\n",
        "\tfor key, value in kwargs.items():\n",
        "\t\tprint (\"%s -> %s\" %(key, value))\n",
        "\n",
        "myFun(mid = 'Community', last = 'College', first = 'California')\n"
      ]
    },
    {
      "cell_type": "markdown",
      "metadata": {
        "id": "RLzol-EAWKnX"
      },
      "source": [
        "#### <mark> Type your answer here </mark>\n",
        "-\n",
        "-\n",
        "-The output was printed from the mid key value as it was the first value from the lsit of elements.\n",
        "***"
      ]
    },
    {
      "cell_type": "markdown",
      "metadata": {
        "id": "xZdp2LcaWKnY"
      },
      "source": [
        "## Call function with the single value and keyword argument\n",
        "```\n",
        "myFun( normalvalue, **keyword_argument)\n",
        "```"
      ]
    },
    {
      "cell_type": "code",
      "execution_count": 41,
      "metadata": {
        "id": "9UBG5vMNWKnY",
        "colab": {
          "base_uri": "https://localhost:8080/"
        },
        "outputId": "6bc8a50a-748a-474a-b35f-e255fa4b670d"
      },
      "outputs": [
        {
          "output_type": "stream",
          "name": "stdout",
          "text": [
            "Apple\n",
            "mid -> Pear\n",
            "last -> Orange\n",
            "Apple\n",
            "mid -> Pear\n",
            "last -> Orange\n"
          ]
        }
      ],
      "source": [
        "def myFun(first, **kwargs):\n",
        "\tprint (first)\n",
        "\tfor key, value in kwargs.items():\n",
        "\t\tprint (\"%s -> %s\" %(key, value))\n",
        "\n",
        "# call myfun() with separate key=value pairs\n",
        "myFun('Apple', mid ='Pear', last='Orange')\n",
        "\n",
        "# Or\n",
        "kwargs = {'mid':'Pear', 'last':'Orange'}\n",
        "myFun('Apple',**kwargs)\n",
        "\n"
      ]
    },
    {
      "cell_type": "markdown",
      "metadata": {
        "id": "V_j2uf9jWKnY"
      },
      "source": [
        "#### <p style=\"font-family: Arial; font-size:1.4em; background-color: yellow; color:black;\"> Problem #5.7 </p>\n",
        "\n",
        "####  Call the function myFun( ) with the following code\n",
        "```\n",
        "\t# Call 1\n",
        "\tmyFun(\"Java\", \"C++\", \"Python\")\n",
        "\tmyFun(arg2=\"C++\", arg3=\"Python\", arg1=\"Java\")\n",
        "\n",
        "\t# Call 2\n",
        "\targs = (\"Java\", \"C++\", \"Python\")\n",
        "\tmyFun(*args)\n",
        "\n",
        "\t# Call 3\n",
        "\tkwargs = {\"arg1\" : \"Java\", \"arg2\" : \"C++\", \"arg3\" : \"Python\"}\n",
        "\tmyFun(**kwargs)\n",
        "```\n",
        "#### And explain the output. All outputs are same?\n"
      ]
    },
    {
      "cell_type": "markdown",
      "metadata": {
        "id": "wCR7hLvrWKnY"
      },
      "source": [
        "## Call function(a, b, c) with\n",
        "- normal value argument: -----   function(arg1, arg2, arg3)\n",
        "- arbitrary argument:-----       function(*args)\n",
        "- keyword argument:-----         function(**kargs)\n",
        "```\n",
        "def myFun( a, b, c):\n",
        "```"
      ]
    },
    {
      "cell_type": "code",
      "execution_count": 42,
      "metadata": {
        "id": "xYl26vQTWKnY",
        "colab": {
          "base_uri": "https://localhost:8080/"
        },
        "outputId": "cca9ef27-18a7-4ba9-b503-ff5e8690bc1d"
      },
      "outputs": [
        {
          "output_type": "stream",
          "name": "stdout",
          "text": [
            "arg1: Java\targ2: C++\targ3: Python\n",
            "arg1: Java\targ2: C++\targ3: Python\n",
            "arg1: Java\targ2: C++\targ3: Python\n",
            "arg1: Java\targ2: C++\targ3: Python\n"
          ]
        }
      ],
      "source": [
        "def myFun(arg1, arg2, arg3):\n",
        "\tprint(\"arg1:\", arg1, end='\\t')\n",
        "\tprint(\"arg2:\", arg2, end='\\t')\n",
        "\tprint(\"arg3:\", arg3, end='\\n')\n",
        "\n",
        "def main():\n",
        "\t# Call 1\n",
        "\tmyFun(\"Java\", \"C++\", \"Python\")\n",
        "\tmyFun(arg2=\"C++\", arg3=\"Python\", arg1=\"Java\")\n",
        "\n",
        "\t# Call 2\n",
        "\targs = (\"Java\", \"C++\", \"Python\")\n",
        "\tmyFun(*args)\n",
        "\t# Call 3\n",
        "\tkwargs = {\"arg1\" : \"Java\", \"arg2\" : \"C++\", \"arg3\" : \"Python\"}\n",
        "\tmyFun(**kwargs)\n",
        "\n",
        "\n",
        "if __name__ == '__main__':\n",
        "    main()\n"
      ]
    },
    {
      "cell_type": "markdown",
      "metadata": {
        "id": "ChhvCsc1WKnY"
      },
      "source": [
        "#### <mark> Type your answer here </mark>\n",
        "\n",
        "### All the output are same? Why? Explain it.\n",
        "- The outputs are the same because entering the inputs as a list, or unpacking it from an arbitrary list, or as a keyword argument produces the same output as entering the values as a lists. This is because as long as the values are stored the same, when they are called later they will give the same output.\n",
        "-\n",
        "-\n",
        "\n",
        "***"
      ]
    },
    {
      "cell_type": "markdown",
      "metadata": {
        "id": "gQvPSHsWWKnY"
      },
      "source": [
        "## Other usefule expressions with arbitarary argument\n",
        "\n",
        "#### Run the followig code cells and learn the arbitrary argument"
      ]
    },
    {
      "cell_type": "markdown",
      "metadata": {
        "id": "uet0TeEgWKnZ"
      },
      "source": [
        "<style>\n",
        "\tp {\n",
        "\t\t--background-color: grey;\n",
        "\t\tcolor: white;\n",
        "\t\tborder: 3px solid grey\n",
        "\n",
        "\t}\n",
        "</style>\n",
        "\n",
        "<p> Using the arbitrary arguments to save the returned value</p>\n",
        "\n"
      ]
    },
    {
      "cell_type": "code",
      "execution_count": 43,
      "metadata": {
        "id": "smwkTj_8WKnZ",
        "colab": {
          "base_uri": "https://localhost:8080/"
        },
        "outputId": "b0afcb42-dd00-4059-e38c-6d0d346dbce3"
      },
      "outputs": [
        {
          "output_type": "stream",
          "name": "stdout",
          "text": [
            "2\n",
            "6\n",
            "[4]\n"
          ]
        }
      ],
      "source": [
        "def retEven(lst):\n",
        "\tevenlst = []\n",
        "\tfor v in lst:\n",
        "\t\tif v % 2 == 0:\n",
        "\t\t\tevenlst.append(v)\n",
        "\treturn evenlst\n",
        "\n",
        "lst = [1,2,3,4,5,6]\n",
        "first, *others, last = retEven(lst)\n",
        "print (first)\n",
        "print (last)\n",
        "print (others)\n"
      ]
    },
    {
      "cell_type": "markdown",
      "metadata": {
        "id": "PjTmxTRpWKnZ"
      },
      "source": [
        "<style>\n",
        "\th1 {\n",
        "\t\tbackground-color: grey;\n",
        "\t\tcolor: Yellow;\n",
        "\t\tborder: 3px solid grey;\n",
        "\t\t-- font-size: xx-large;\n",
        "\t}\n",
        "\tp {\n",
        "\t\tbackground-color: grey;\n",
        "\t\tcolor: white;\n",
        "\t\tborder: 3px solid grey;\n",
        "\t\tfont-size: xx-large\n",
        "\t}\n",
        "</style>\n",
        "<p> Example: *args </p>\n"
      ]
    },
    {
      "cell_type": "code",
      "execution_count": 44,
      "metadata": {
        "id": "ekLzIZQ3WKnZ",
        "outputId": "dcafdef0-99a9-4f62-e085-84c378a43847",
        "colab": {
          "base_uri": "https://localhost:8080/"
        }
      },
      "outputs": [
        {
          "output_type": "stream",
          "name": "stdout",
          "text": [
            "('Python Programming',)\n",
            "The value v is  Python Programming \tThe type of v is  <class 'str'>\n",
            "\n",
            "([1, 2, 3, 4, 5],)\n",
            "The value v is  [1, 2, 3, 4, 5] \tThe type of v is  <class 'list'>\n",
            "\n",
            "(1, 2, 3, 4, 5)\n",
            "The value v is  1 \tThe type of v is  <class 'int'>\n",
            "The value v is  2 \tThe type of v is  <class 'int'>\n",
            "The value v is  3 \tThe type of v is  <class 'int'>\n",
            "The value v is  4 \tThe type of v is  <class 'int'>\n",
            "The value v is  5 \tThe type of v is  <class 'int'>\n",
            "\n"
          ]
        }
      ],
      "source": [
        "\n",
        "def printstring(*string):\n",
        "\tprint (string)\n",
        "\tfor v in string:\n",
        "\t\tprint ('The value v is ', v, '\\tThe type of v is ', type(v) )\n",
        "\n",
        "\tprint ()\n",
        "\n",
        "stringvalue = \"Python Programming\"\n",
        "printstring(stringvalue)\n",
        "\n",
        "integerlist = [1,2,3,4,5]\n",
        "printstring(integerlist)\n",
        "\n",
        "printstring(1,2,3,4,5)"
      ]
    },
    {
      "cell_type": "markdown",
      "metadata": {
        "id": "NpKjUDrbWKnZ"
      },
      "source": [
        "## Please <font color='red'> **\"commit\"** </font> your work or <font color='red'> **\"save\"** </font> in Google Colab\n",
        "## before moving to the next section."
      ]
    },
    {
      "cell_type": "markdown",
      "metadata": {
        "id": "zt8zISvDWKna"
      },
      "source": [
        "***\n",
        "# <p style=\"background-color: grey; color: white \"> ◼️  Section 6 </p>\n",
        "# <p style=\"font-family: Arial; font-size:1.4em;color:red;\"> 6. Yield </p>\n"
      ]
    },
    {
      "cell_type": "markdown",
      "metadata": {
        "id": "GNLW6wUSWKna"
      },
      "source": [
        "<style>\n",
        "\th1 {\n",
        "\t\tbackground-color: grey;\n",
        "\t\tcolor: Yellow;\n",
        "\t\tborder: 3px solid grey;\n",
        "\t\t-- font-size: xx-large;\n",
        "\t}\n",
        "\tp {\n",
        "\t\tbackground-color: grey;\n",
        "\t\tcolor: white;\n",
        "\t\tborder: 3px solid grey;\n",
        "\t}\n",
        "</style>\n",
        "<h1 font-size:40px> 6.1 iterator </h1>\n",
        "\n"
      ]
    },
    {
      "cell_type": "markdown",
      "metadata": {
        "id": "48zWSGk8WKna"
      },
      "source": [
        "## Understanding Iterator\n",
        "\n",
        "#### Run the followig code cells and learn the Iterator concept"
      ]
    },
    {
      "cell_type": "markdown",
      "metadata": {
        "id": "zFS7U-M2WKna"
      },
      "source": [
        "<style>\n",
        "\th3 {\n",
        "\t\tbackground-color: black;\n",
        "\t\tcolor: white;\n",
        "\t\tborder: 1px solid grey;\n",
        "\t\tfont-size: 30px;\n",
        "\t}\n",
        "\tp {\n",
        "\t\tbackground-color: #336666;\n",
        "\t\tcolor: white;\n",
        "\t\tborder: 1px solid grey;\n",
        "\t\tfont-size: 24;\n",
        "\t}\n",
        "</style>\n",
        "\n",
        "<h3> Iterator </h3>\n",
        "<p>\n",
        "\n",
        "An iterator in Python is an object that enables you to traverse through a collection of elements, such as a list, tuple, or dictionary, one element at a time. It implements two main methods:\n",
        "```\n",
        "__iter__(): Returns the iterator object itself. This is required for an object to be an iterator.\n",
        "__next__(): Returns the next item from the collection. When there are no more items, it raises a StopIteration exception.\n",
        "```\n",
        "</p>"
      ]
    },
    {
      "cell_type": "markdown",
      "metadata": {
        "id": "l_OcvhGKWKna"
      },
      "source": [
        "#### <p style=\"font-family: Arial; font-size:1.4em; background-color: yellow; color:black;\"> Problem #6.1 </p>\n",
        "\n",
        "<style>\n",
        "\tp {\n",
        "\t\tbackground-color: black;\n",
        "\t\tcolor: white;\n",
        "\t\tborder: 1px solid grey;\n",
        "\t\tfont-size: 30px;\n",
        "\t}\n",
        "</style>\n",
        "<p> Run the following code cells and answer the questions </p>  \n"
      ]
    },
    {
      "cell_type": "markdown",
      "metadata": {
        "id": "S_ldr2CWWKna"
      },
      "source": [
        "#### What is the type of \"myiter\"?\n",
        "- Your answer: 👉 The type is of list type"
      ]
    },
    {
      "cell_type": "code",
      "execution_count": 45,
      "metadata": {
        "id": "SblGeJwcWKna",
        "colab": {
          "base_uri": "https://localhost:8080/"
        },
        "outputId": "da0e1d84-9faf-410e-a729-64254c6ad4e7"
      },
      "outputs": [
        {
          "output_type": "execute_result",
          "data": {
            "text/plain": [
              "list_iterator"
            ]
          },
          "metadata": {},
          "execution_count": 45
        }
      ],
      "source": [
        "mylst = [10, 20, 30]\n",
        "myiter = iter(mylst)\n",
        "\n",
        "type(myiter)"
      ]
    },
    {
      "cell_type": "markdown",
      "metadata": {
        "id": "2dvYJTMUWKna"
      },
      "source": [
        "#### What is the result of the following code?\n",
        "``` myiter.__next__() ```\n",
        "- Your answer: Here 👉 10"
      ]
    },
    {
      "cell_type": "code",
      "execution_count": 46,
      "metadata": {
        "id": "F50TEnhZWKnb",
        "colab": {
          "base_uri": "https://localhost:8080/"
        },
        "outputId": "87ad92f6-ca81-46a1-9a1f-8706a26213f2"
      },
      "outputs": [
        {
          "output_type": "execute_result",
          "data": {
            "text/plain": [
              "10"
            ]
          },
          "metadata": {},
          "execution_count": 46
        }
      ],
      "source": [
        "myiter.__next__()"
      ]
    },
    {
      "cell_type": "markdown",
      "metadata": {
        "id": "oHj6p7WaWKnb"
      },
      "source": [
        "#### What is the result of the following code?\n",
        "```\n",
        "    myiter.__next__()  \n",
        "    myiter.__next__()\n",
        "```\n",
        "- Your answer: Here 👉 20, 30"
      ]
    },
    {
      "cell_type": "code",
      "execution_count": 47,
      "metadata": {
        "id": "IVqHi9RBWKnb",
        "colab": {
          "base_uri": "https://localhost:8080/"
        },
        "outputId": "ad9ee7ec-ad12-4d90-d8f9-d7f14d526c0d"
      },
      "outputs": [
        {
          "output_type": "stream",
          "name": "stdout",
          "text": [
            "20\n",
            "30\n"
          ]
        }
      ],
      "source": [
        "print (myiter.__next__())\n",
        "print (myiter.__next__())"
      ]
    },
    {
      "cell_type": "markdown",
      "metadata": {
        "id": "XqoVcUWtWKnb"
      },
      "source": [
        "#### If you run this code one more, you will see error. Show the error message. Why does it cause an error?\n",
        "```\n",
        "    myiter.__next__()  \n",
        "```\n",
        "- Your answer: Here  👉 It causes an error because it is there is only one item in the collection."
      ]
    },
    {
      "cell_type": "code",
      "execution_count": 48,
      "metadata": {
        "id": "srXxYUz1WKnb",
        "colab": {
          "base_uri": "https://localhost:8080/",
          "height": 141
        },
        "outputId": "c1c245b1-a764-4aaa-bb20-dcdbc25a08d7"
      },
      "outputs": [
        {
          "output_type": "error",
          "ename": "StopIteration",
          "evalue": "",
          "traceback": [
            "\u001b[0;31m---------------------------------------------------------------------------\u001b[0m",
            "\u001b[0;31mStopIteration\u001b[0m                             Traceback (most recent call last)",
            "\u001b[0;32m<ipython-input-48-279da4cfd673>\u001b[0m in \u001b[0;36m<cell line: 0>\u001b[0;34m()\u001b[0m\n\u001b[0;32m----> 1\u001b[0;31m \u001b[0mprint\u001b[0m \u001b[0;34m(\u001b[0m\u001b[0mmyiter\u001b[0m\u001b[0;34m.\u001b[0m\u001b[0m__next__\u001b[0m\u001b[0;34m(\u001b[0m\u001b[0;34m)\u001b[0m\u001b[0;34m)\u001b[0m\u001b[0;34m\u001b[0m\u001b[0;34m\u001b[0m\u001b[0m\n\u001b[0m",
            "\u001b[0;31mStopIteration\u001b[0m: "
          ]
        }
      ],
      "source": [
        "print (myiter.__next__())"
      ]
    },
    {
      "cell_type": "markdown",
      "metadata": {
        "id": "BMZvhH84WKnb"
      },
      "source": [
        "#### next() function is the same as ``` __next__() ```\n",
        "```\n",
        "    iter_obj = iter(mylst)\n",
        "    next(iter_obj)\n",
        "```"
      ]
    },
    {
      "cell_type": "code",
      "execution_count": 49,
      "metadata": {
        "id": "Q6rSv2e1WKnb",
        "colab": {
          "base_uri": "https://localhost:8080/"
        },
        "outputId": "3d148f34-748d-4ea8-d1f2-d25ca8a453e2"
      },
      "outputs": [
        {
          "output_type": "stream",
          "name": "stdout",
          "text": [
            "1\n",
            "2\n",
            "3\n"
          ]
        }
      ],
      "source": [
        "mylst = [1,2,3]\n",
        "itobj= iter(mylst)\n",
        "print (next(itobj))\n",
        "print (next(itobj))\n",
        "print (next(itobj))"
      ]
    },
    {
      "cell_type": "markdown",
      "metadata": {
        "id": "vF8XAgEOWKnb"
      },
      "source": [
        "***\n",
        "#### <p style=\"font-family: Arial; font-size:1.4em; background-color: yellow; color:black;\"> Problem #6.2: Loop Structures with Iterator </p>\n",
        "\n",
        "<style>\n",
        "\tp {\n",
        "\t\tbackground-color: black;\n",
        "\t\tcolor: white;\n",
        "\t\tborder: 1px solid grey;\n",
        "\t\tfont-size: 30px;\n",
        "\t}\n",
        "</style>\n",
        "<p> Run the following code cells and answer the questions </p>  \n"
      ]
    },
    {
      "cell_type": "markdown",
      "metadata": {
        "id": "FwqaTWC1WKnc"
      },
      "source": [
        "#### Compare two loop structures with iterator, for loop and while loop."
      ]
    },
    {
      "cell_type": "markdown",
      "metadata": {
        "id": "abpxFq6AWKnc"
      },
      "source": [
        "<style>\n",
        "\th5 {\n",
        "\t\tbackground-color: black;\n",
        "\t\tcolor: white;\n",
        "\t\tborder: 1px solid grey;\n",
        "\t\tfont-size: 30px;\n",
        "\t}\n",
        "\tp {\n",
        "\t\tbackground-color: #336666;\n",
        "\t\tcolor: white;\n",
        "\t\tborder: 1px solid grey;\n",
        "\t\tfont-size: 24;\n",
        "\t}\n",
        "</style>\n",
        "##### for loop\n",
        "<p>\n",
        "Using Iterators in Loops <br>\n",
        "Most commonly, you use iterators in a for loop, which automatically handles the StopIteration exception:\n",
        "</p>"
      ]
    },
    {
      "cell_type": "code",
      "execution_count": 50,
      "metadata": {
        "id": "EGVRg6tJWKnc",
        "outputId": "c18b69b9-a225-4c65-a25b-482f7226eb33",
        "colab": {
          "base_uri": "https://localhost:8080/"
        }
      },
      "outputs": [
        {
          "output_type": "stream",
          "name": "stdout",
          "text": [
            "10\t20\t30\t"
          ]
        }
      ],
      "source": [
        "mylst = [10, 20 , 30]\n",
        "myiter = iter(mylst)\n",
        "for v in myiter:\n",
        "    print (v, end='\\t')"
      ]
    },
    {
      "cell_type": "markdown",
      "metadata": {
        "id": "Y522-StGWKnc"
      },
      "source": [
        "<style>\n",
        "\th5 {\n",
        "\t\tbackground-color: black;\n",
        "\t\tcolor: white;\n",
        "\t\tborder: 1px solid grey;\n",
        "\t\tfont-size: 30px;\n",
        "\t}\n",
        "\tp {\n",
        "\t\tbackground-color: #336666;\n",
        "\t\tcolor: white;\n",
        "\t\tborder: 1px solid grey;\n",
        "\t\tfont-size: 24;\n",
        "\t}\n",
        "</style>\n",
        "##### while loop"
      ]
    },
    {
      "cell_type": "code",
      "execution_count": 51,
      "metadata": {
        "id": "ZwFCdyzEWKnc",
        "outputId": "9a6d38f7-65ad-4cfe-81aa-eb8ff34d0bc2",
        "colab": {
          "base_uri": "https://localhost:8080/"
        }
      },
      "outputs": [
        {
          "output_type": "stream",
          "name": "stdout",
          "text": [
            "10\t20\t30\t"
          ]
        }
      ],
      "source": [
        "mylst = [10, 20, 30]\n",
        "iter_obj = iter(mylst)\n",
        "while True:\n",
        "    try:\n",
        "        print (next(iter_obj), end= '\\t')\n",
        "    except StopIteration:\n",
        "        break\n"
      ]
    },
    {
      "cell_type": "markdown",
      "metadata": {
        "id": "-Bwp9jBgWKnd"
      },
      "source": [
        "### Compare two loop structures. What is the difference between two loops to use the iterator for traversing all the elements in the list?\n",
        "#### Your Answer: Here 👉 The difference between the two loops is that the for loop handles the stop iteration, while the while loop needs an try and except command and break command to do the iterations."
      ]
    },
    {
      "cell_type": "markdown",
      "metadata": {
        "id": "yQsaY_bRWKnd"
      },
      "source": [
        "***"
      ]
    },
    {
      "cell_type": "markdown",
      "metadata": {
        "id": "Ly2MKJkdWKnd"
      },
      "source": [
        "<style>\n",
        "\th1 {\n",
        "\t\tbackground-color: grey;\n",
        "\t\tcolor: Yellow;\n",
        "\t\tborder: 3px solid grey;\n",
        "\t\tfont-size: xx-large;\n",
        "\t}\n",
        "\tp {\n",
        "\t\tbackground-color: grey;\n",
        "\t\tcolor: white;\n",
        "\t\tfont-size: 24px;\n",
        "\t\tborder: 3px solid grey;\n",
        "\t}\n",
        "</style>\n",
        "# <h1 font-size:40px> 6.2 Generator </h1>\n",
        "\n",
        "\n",
        "## Concepts of Generator\n",
        "<p>\n",
        "A generator in Python is a special type of iterator that allows you to iterate over a sequence of values lazily, meaning it generates values on the fly and only when needed. <br> This makes generators memory-efficient, especially when dealing with large datasets, because they do not require all the values to be stored in memory at once.\n",
        "</p>"
      ]
    },
    {
      "cell_type": "markdown",
      "metadata": {
        "id": "Bu4A-GeTWKnd"
      },
      "source": [
        "***\n",
        "#### <p style=\"font-family: Arial; font-size:1.4em; background-color: yellow; color:black;\"> Problem #6.3 </p>\n",
        "\n",
        "<style>\n",
        "\tp {\n",
        "\t\tbackground-color: black;\n",
        "\t\tcolor: white;\n",
        "\t\tborder: 1px solid grey;\n",
        "\t\tfont-size: 30px;\n",
        "\t}\n",
        "</style>\n",
        "<p> Run the following code cells and answer the questions </p>  \n"
      ]
    },
    {
      "cell_type": "markdown",
      "metadata": {
        "id": "WEMcg14kWKnd"
      },
      "source": [
        "#### Run this code and check out the output. Show the type of \"gen\"\n",
        "```\n",
        "def mygen():\n",
        "    yield 1\n",
        "\n",
        "gen = mygen()\n",
        "print (type(gen))\n",
        "```\n",
        "##### Your answer: Here 👉 The value prints as type generator\n",
        "\n",
        "\n",
        "***"
      ]
    },
    {
      "cell_type": "markdown",
      "metadata": {
        "id": "iVogx-dmWKnd"
      },
      "source": [
        "#### Run this code and check out the output. What are the value from \"next(gen)\"?\n",
        "```\n",
        "def mygen():\n",
        "    yield 10\n",
        "    yield 20\n",
        "    yield 30\n",
        "\n",
        "gen = mygen()\n",
        "print (next(gen))\n",
        "print (next(gen))\n",
        "print (next(gen))\n",
        "```\n",
        "##### Your answer: Here 👉 10, 20, 30\n",
        "\n",
        "\n",
        "***"
      ]
    },
    {
      "cell_type": "markdown",
      "metadata": {
        "id": "dBd3_3E3WKnd"
      },
      "source": [
        "#### Run this code and check out the output. What are the value from \"next(gen)\"?\n",
        "```\n",
        "def mygen():\n",
        "    yield 10\n",
        "    yield 20\n",
        "    yield 30\n",
        "\n",
        "gen = mygen()\n",
        "for v in gen:\n",
        "    print (v, end='\\t')\n",
        "```\n",
        "##### Your answer: Here 👉 10     20     30\n",
        "\n",
        "\n",
        "***"
      ]
    },
    {
      "cell_type": "markdown",
      "metadata": {
        "id": "dSK9gsQUWKne"
      },
      "source": [
        "#### Run this code and check out the output. What is the value of the last next(gen) ?\n",
        "```\n",
        "def mygen():\n",
        "    yield 10\n",
        "    yield 20\n",
        "    yield 30\n",
        "\n",
        "gen = mygen()\n",
        "while True:\n",
        "    try:\n",
        "        print (next(gen))\n",
        "    except StopIteration:\n",
        "        break\n",
        "```\n",
        "##### Your answer: Here 👉 10, 20, 30\n",
        "\n",
        "\n",
        "***"
      ]
    },
    {
      "cell_type": "markdown",
      "metadata": {
        "id": "DbmR2HquWKne"
      },
      "source": [
        "<style>\n",
        "\th1 {\n",
        "\t\tbackground-color: grey;\n",
        "\t\tcolor: Yellow;\n",
        "\t\tborder: 3px solid grey;\n",
        "\t\tfont-size: xx-large;\n",
        "\t}\n",
        "\tp {\n",
        "\t\tbackground-color: grey;\n",
        "\t\tcolor: white;\n",
        "\t\tfont-size: 24px;\n",
        "\t\tborder: 3px solid grey;\n",
        "\t}\n",
        "</style>\n",
        "# <h1 font-size:40px> 6.3 yield </h1>\n",
        "\n",
        "\n",
        "## yield statement\n",
        "<p>\n",
        "yield is a keyword used in a function to turn it into a generator. When a function contains a yield statement, it does not execute like a normal function. Instead, it returns a generator object that can be iterated over.\n",
        "</p>"
      ]
    },
    {
      "cell_type": "markdown",
      "metadata": {
        "id": "dVfCqRdYWKne"
      },
      "source": [
        "***\n",
        "#### <p style=\"font-family: Arial; font-size:1.4em; background-color: yellow; color:black;\"> Problem #6.4 </p>\n",
        "\n",
        "<style>\n",
        "\tp {\n",
        "\t\tbackground-color: black;\n",
        "\t\tcolor: white;\n",
        "\t\tborder: 1px solid grey;\n",
        "\t\tfont-size: 30px;\n",
        "\t}\n",
        "</style>\n",
        "<p> Run the following code cells and answer the questions </p>  \n"
      ]
    },
    {
      "cell_type": "markdown",
      "metadata": {
        "id": "06xAghUpWKne"
      },
      "source": [
        "<style>\n",
        "\tp {\n",
        "\t\t--background-color: grey;\n",
        "\t\tcolor: white;\n",
        "\t\tborder: 3px solid grey\n",
        "\n",
        "\t}\n",
        "</style>\n",
        "\n",
        "<p> Example of yield statement </p>\n",
        "<p> Make a function to return the even number in the list </p>\n",
        "\n"
      ]
    },
    {
      "cell_type": "code",
      "execution_count": 52,
      "metadata": {
        "id": "OBreIuZoWKne",
        "colab": {
          "base_uri": "https://localhost:8080/"
        },
        "outputId": "07947901-4a8d-4b60-bc9e-a32f1a507576"
      },
      "outputs": [
        {
          "output_type": "stream",
          "name": "stdout",
          "text": [
            "0 --\n",
            "2\n",
            "4\n",
            "6\n",
            "8\n"
          ]
        }
      ],
      "source": [
        "def findEvenNumber(lst):\n",
        "\tfor v in lst:\n",
        "\t\tif ( v % 2 == 0):\n",
        "\t\t\tyield v\n",
        "\n",
        "def main():\n",
        "\tmygen = findEvenNumber(range(10))\n",
        "\tval = next(mygen)\n",
        "\tprint (val, '--')\n",
        "\tfor val in mygen:\n",
        "\t\tprint (val)\n",
        "\n",
        "if __name__ == '__main__':\n",
        "\tmain()"
      ]
    },
    {
      "cell_type": "markdown",
      "metadata": {
        "id": "knwkx966WKne"
      },
      "source": [
        "<style>\n",
        "\tp {\n",
        "\t\t--background-color: grey;\n",
        "\t\tcolor: white;\n",
        "\t\tborder: 3px solid grey\n",
        "\n",
        "\t}\n",
        "</style>\n",
        "\n",
        "<p> Make a function to return the generator for the Fibonacci number </p>\n",
        "\n"
      ]
    },
    {
      "cell_type": "code",
      "execution_count": 53,
      "metadata": {
        "id": "BDjjOSAAWKne",
        "colab": {
          "base_uri": "https://localhost:8080/"
        },
        "outputId": "11d014d5-b8ac-40a9-fcd6-11ad170ead94"
      },
      "outputs": [
        {
          "output_type": "stream",
          "name": "stdout",
          "text": [
            "0\n",
            "1\n"
          ]
        }
      ],
      "source": [
        "\n",
        "def fibo(N):\n",
        "\tn1, n2 = 0, 1\n",
        "\ti = 0\n",
        "\twhile ( i <= N):\n",
        "\t\tyield n1\n",
        "\t\tn3 = n1 + n2\n",
        "\t\tn1 = n2\n",
        "\t\tn2 = n3\n",
        "\t\ti += 1\n",
        "\n",
        "gen = fibo(1)\n",
        "for v in gen:\n",
        "\tprint (v)\n"
      ]
    },
    {
      "cell_type": "markdown",
      "metadata": {
        "id": "6IM_FqObWKnf"
      },
      "source": [
        "<style>\n",
        "\th1 {\n",
        "\t\tbackground-color: grey;\n",
        "\t\tcolor: Yellow;\n",
        "\t\tborder: 3px solid grey;\n",
        "\t\t-- font-size: xx-large;\n",
        "\t}\n",
        "\tp {\n",
        "\t\tbackground-color: grey;\n",
        "\t\tcolor: white;\n",
        "\t\tborder: 3px solid grey;\n",
        "\t\tfont-size: xx-large\n",
        "\t}\n",
        "</style>\n",
        "<p> Example: yield </p>\n"
      ]
    },
    {
      "cell_type": "code",
      "execution_count": 54,
      "metadata": {
        "id": "SpOz1cfEWKnf",
        "colab": {
          "base_uri": "https://localhost:8080/"
        },
        "outputId": "024fa9c1-3ac2-44ca-d82c-a2c8754486dc"
      },
      "outputs": [
        {
          "output_type": "stream",
          "name": "stdout",
          "text": [
            "P, y, t, h, n,  , P, r, g, r, m, m, n, g, "
          ]
        }
      ],
      "source": [
        "\n",
        "def consonant(string):\n",
        "\tvowels = ['a', 'e', 'i','o', 'u']\n",
        "\tfor v in string:\n",
        "\t\tif v not in vowels:\n",
        "\t\t\tyield v\n",
        "\n",
        "\n",
        "strval = 'Python Programming'\n",
        "for v in consonant(strval):\n",
        "\tprint (v, end=', ' )"
      ]
    },
    {
      "cell_type": "markdown",
      "metadata": {
        "id": "t9h47y59WKnf"
      },
      "source": [
        "<style>\n",
        "\tp {\n",
        "\t\tbackground-color: black;\n",
        "\t\tcolor: white;\n",
        "\t\tborder: 1px solid grey;\n",
        "\t\tfont-size: 30px;\n",
        "\t}\n",
        "</style>\n",
        "#### <p style=\"font-family: Arial; font-size:1.4em; background-color: yellow; color:black;\"> Problem #6.5 </p>\n",
        "\n",
        "<p> Make a function to return the generator containing the first half of the list\n"
      ]
    },
    {
      "cell_type": "code",
      "execution_count": 84,
      "metadata": {
        "id": "X3wR17I_WKnf",
        "colab": {
          "base_uri": "https://localhost:8080/"
        },
        "outputId": "c7993936-131b-4921-c4af-d55c593574c8"
      },
      "outputs": [
        {
          "output_type": "stream",
          "name": "stdout",
          "text": [
            "1\t2\t3\t4\t5\t"
          ]
        }
      ],
      "source": [
        "def halfoflist(mylst):\n",
        "    # complete your code\n",
        "    # return the generator that contains the first half of the list\n",
        "    for v in mylst:\n",
        "      if v <= 5:\n",
        "        yield v\n",
        "\n",
        "def main():\n",
        "    numbers = [1,2,3,4,5,6,7,8,9,10]\n",
        "    mygen = halfoflist(numbers)\n",
        "\n",
        "    for v in mygen:\n",
        "        print (v, end ='\\t')\n",
        "\n",
        "if __name__ == '__main__':\n",
        "    main()"
      ]
    },
    {
      "cell_type": "markdown",
      "metadata": {
        "id": "wC0jNxI2WKnf"
      },
      "source": [
        "***\n",
        "#### <p style=\"font-family: Arial; font-size:1.4em; background-color: yellow; color:black;\"> Problem #6.6 </p>\n",
        "\n",
        "<style>\n",
        "\tp {\n",
        "\t\tbackground-color: black;\n",
        "\t\tcolor: white;\n",
        "\t\tborder: 1px solid grey;\n",
        "\t\tfont-size: 30px;\n",
        "\t}\n",
        "</style>\n",
        "<p> Make a function that returns the generator containing elements greater than their immediate left. </p>\n",
        "- Example numbers = [1, 3, 2, 4, 5, 0] <br>\n",
        "- Generator for [3,4,5]\n"
      ]
    },
    {
      "cell_type": "code",
      "execution_count": 86,
      "metadata": {
        "id": "27nMCAKNWKnf",
        "colab": {
          "base_uri": "https://localhost:8080/"
        },
        "outputId": "4edd123b-64e7-437e-a5a2-ff0869492b33"
      },
      "outputs": [
        {
          "output_type": "stream",
          "name": "stdout",
          "text": [
            "3\t4\t5\t"
          ]
        }
      ],
      "source": [
        "def greaterNum(mylst):\n",
        "  greater = []\n",
        "  i = 0\n",
        "  while i < 4:\n",
        "    if (mylst[i+1] > mylst[i]):\n",
        "      greater.append(mylst[i+1])\n",
        "    i = i + 1\n",
        "\n",
        "  for v in mylst:\n",
        "    if v in greater:\n",
        "      yield v\n",
        "\n",
        "def main():\n",
        "  numbers = [1,3,2,4,5,0]\n",
        "  mygen = greaterNum(numbers)\n",
        "\n",
        "  for v in mygen:\n",
        "    print(v, end='\\t')\n",
        "\n",
        "if __name__ == '__main__':\n",
        "  main()"
      ]
    },
    {
      "cell_type": "markdown",
      "metadata": {
        "id": "HJC25LEeWKnf"
      },
      "source": [
        "<style>\n",
        "\th1 {\n",
        "\t\tbackground-color: grey;\n",
        "\t\tcolor: Yellow;\n",
        "\t\tborder: 3px solid grey;\n",
        "\t\tfont-size: 60px;\n",
        "\t}\n",
        "\tp {\n",
        "\t\tbackground-color: grey;\n",
        "\t\tcolor: white;\n",
        "\t\tfont-size: 20px;\n",
        "\t\tborder: 3px solid grey;\n",
        "\t}\n",
        "</style>\n",
        "# <h1 font-size:60px> 6.4 lambda </h1>\n",
        "\n",
        "\n",
        "## Lambda Function\n",
        "<p>\n",
        "A lambda function in Python is a small, anonymous function defined with the lambda keyword. Unlike a regular function that is defined using the def keyword, a lambda function can have any number of arguments but only one expression. The result of that expression is implicitly returned.\n",
        "</p>\n",
        "\n",
        "Syntax <br>\n",
        "<code>\n",
        "lambda arguments: expression <br>\n",
        "\n",
        "Code Example: <br>\n",
        "<code>\n",
        "add_ten = lambda x: x + 10 <br>\n",
        "print(add_ten(5))  # Output: 15\n"
      ]
    },
    {
      "cell_type": "markdown",
      "metadata": {
        "id": "Q_abMlRVWKng"
      },
      "source": [
        "***\n",
        "<style>\n",
        "\tp {\n",
        "\t\tbackground-color: black;\n",
        "\t\tcolor: white;\n",
        "\t\tborder: 1px solid grey;\n",
        "\t\tfont-size: 30px;\n",
        "\t}\n",
        "</style>\n",
        "<p> Run the following code cells and check out the results </p>  \n"
      ]
    },
    {
      "cell_type": "markdown",
      "metadata": {
        "id": "_AKFWQucWKng"
      },
      "source": [
        "#### Lambda Function Example: Add 10"
      ]
    },
    {
      "cell_type": "code",
      "execution_count": 87,
      "metadata": {
        "id": "KgRDhemzWKng",
        "outputId": "bde092f9-d78f-4873-e196-c139d0e6019d",
        "colab": {
          "base_uri": "https://localhost:8080/"
        }
      },
      "outputs": [
        {
          "output_type": "stream",
          "name": "stdout",
          "text": [
            "30\n"
          ]
        }
      ],
      "source": [
        "\n",
        "lfn = lambda x : x + 10\n",
        "\n",
        "a = lfn(20)\n",
        "print (a)"
      ]
    },
    {
      "cell_type": "markdown",
      "metadata": {
        "id": "9nE2WcxHWKng"
      },
      "source": [
        "### Lambda that returns x squared"
      ]
    },
    {
      "cell_type": "code",
      "execution_count": 88,
      "metadata": {
        "id": "f4U2x-3VWKng",
        "colab": {
          "base_uri": "https://localhost:8080/"
        },
        "outputId": "f2ff14b6-96f7-42ed-9763-c75224b45739"
      },
      "outputs": [
        {
          "output_type": "stream",
          "name": "stdout",
          "text": [
            "100\n"
          ]
        }
      ],
      "source": [
        "squared = lambda x : x * x\n",
        "\n",
        "print (squared(10))"
      ]
    },
    {
      "cell_type": "markdown",
      "metadata": {
        "id": "Gq4avqERWKnh"
      },
      "source": [
        "### Lambda that returns a boolean as a result of x > y"
      ]
    },
    {
      "cell_type": "code",
      "execution_count": 89,
      "metadata": {
        "id": "hX2VdZROWKnh",
        "colab": {
          "base_uri": "https://localhost:8080/"
        },
        "outputId": "36afd32b-51e0-41fa-973c-8f712d6fb120"
      },
      "outputs": [
        {
          "output_type": "stream",
          "name": "stdout",
          "text": [
            "False\n",
            "True\n"
          ]
        }
      ],
      "source": [
        "greater = lambda x, y : x > y\n",
        "\n",
        "print (greater(10, 20))\n",
        "print (greater(20, 10))\n"
      ]
    },
    {
      "cell_type": "markdown",
      "metadata": {
        "id": "Sl9ch50aWKnh"
      },
      "source": [
        "### Function that returns a lambda"
      ]
    },
    {
      "cell_type": "code",
      "execution_count": 90,
      "metadata": {
        "id": "8ehu_uj2WKnh",
        "colab": {
          "base_uri": "https://localhost:8080/"
        },
        "outputId": "3e1e0a2e-b377-4658-f236-98d4e7839ea3"
      },
      "outputs": [
        {
          "output_type": "stream",
          "name": "stdout",
          "text": [
            "200\n",
            "400\n"
          ]
        }
      ],
      "source": [
        "def retlam( value):\n",
        "\treturn lambda parameter : parameter * value\n",
        "\n",
        "mylambda = retlam(10)\n",
        "print (mylambda(20))\n",
        "\n",
        "mylambda = retlam(20)\n",
        "print (mylambda(20))"
      ]
    },
    {
      "cell_type": "markdown",
      "metadata": {
        "id": "5CVojghjWKnh"
      },
      "source": [
        "### Lambda Examples"
      ]
    },
    {
      "cell_type": "code",
      "execution_count": 91,
      "metadata": {
        "id": "hb0OfZHhWKnh",
        "colab": {
          "base_uri": "https://localhost:8080/"
        },
        "outputId": "1fb30b2c-1f17-4913-a666-9c2cb2d06d36"
      },
      "outputs": [
        {
          "output_type": "stream",
          "name": "stdout",
          "text": [
            "[19, 31, 75, 25, 92]\n",
            "75\n",
            "92\n"
          ]
        }
      ],
      "source": [
        "import random\n",
        "\n",
        "lst = [ random.randint(0,100) for i in range(5)]\n",
        "print (lst)\n",
        "\n",
        "fmin = lambda x : (v for v in x if v > 50)\n",
        "\n",
        "for v in fmin(lst):\n",
        "\tprint (v)"
      ]
    },
    {
      "cell_type": "code",
      "execution_count": 92,
      "metadata": {
        "id": "Sd6AWNvpWKnh",
        "colab": {
          "base_uri": "https://localhost:8080/"
        },
        "outputId": "4eac3f9a-6533-4d24-c363-01aebc5494c6"
      },
      "outputs": [
        {
          "output_type": "stream",
          "name": "stdout",
          "text": [
            "20\n"
          ]
        }
      ],
      "source": [
        "gr = lambda x,y: x if x > y else y\n",
        "print (gr(10,20))\n"
      ]
    },
    {
      "cell_type": "code",
      "execution_count": 93,
      "metadata": {
        "id": "A3K2-lUMWKni",
        "colab": {
          "base_uri": "https://localhost:8080/"
        },
        "outputId": "4ff92342-6511-4ae3-aaea-3c8c41e44566"
      },
      "outputs": [
        {
          "output_type": "stream",
          "name": "stdout",
          "text": [
            "10\n",
            "5\n"
          ]
        }
      ],
      "source": [
        "total = 0\n",
        "def addValue(value):\n",
        "\tglobal total\n",
        "\ttotal += value\n",
        "\treturn total\n",
        "def subtractValue(value):\n",
        "\tglobal total\n",
        "\ttotal -= value\n",
        "\treturn total\n",
        "\n",
        "mylambda = lambda x, f: f(x)\n",
        "\n",
        "\n",
        "print (mylambda(10, addValue))\n",
        "print (mylambda(5, subtractValue))\n",
        "\n"
      ]
    },
    {
      "cell_type": "markdown",
      "metadata": {
        "id": "QnWcCbvBWKni"
      },
      "source": [
        "***\n",
        "#### <p style=\"font-family: Arial; font-size:1.4em; background-color: yellow; color:black;\"> Problem #6.7 </p>\n",
        "\n",
        "<style>\n",
        "\tp {\n",
        "\t\tbackground-color: black;\n",
        "\t\tcolor: white;\n",
        "\t\tborder: 1px solid grey;\n",
        "\t\tfont-size: 30px;\n",
        "\t}\n",
        "</style>\n",
        "<p> Make a Lamba function that returns the average of the list element values </p>\n",
        "- Example numbers = [1, 3, 2, 4, 5, 0] <br>\n",
        "- listavg = getavg(numbers)  # It should be 2.5\n"
      ]
    },
    {
      "cell_type": "code",
      "execution_count": 99,
      "metadata": {
        "id": "faQXcY7LWKni",
        "outputId": "0c6f225a-e89c-48d2-a3b1-3b17e2ea373e",
        "colab": {
          "base_uri": "https://localhost:8080/"
        }
      },
      "outputs": [
        {
          "output_type": "stream",
          "name": "stdout",
          "text": [
            "9.166666666666666\n",
            "9.166666666666666\n"
          ]
        }
      ],
      "source": [
        "# Complete your code Here. Lambda Function\n",
        "def getavg(numbers):\n",
        "  global average\n",
        "  average = sum(numbers)\n",
        "  average = average / 6\n",
        "  return average\n",
        "\n",
        "numbers = [1,2,3,4,5,6,7,8,9,10]\n",
        "result = getavg(numbers)\n",
        "mylambda = lambda x, f: f(x)\n",
        "print(mylambda(numbers, getavg))\n",
        "print (result)"
      ]
    },
    {
      "cell_type": "markdown",
      "metadata": {
        "id": "t_thEM3kWKni"
      },
      "source": [
        "***\n",
        "#### <p style=\"font-family: Arial; font-size:1.4em; background-color: yellow; color:black;\"> Problem #6.8 </p>\n",
        "\n",
        "<style>\n",
        "\tp {\n",
        "\t\tbackground-color: black;\n",
        "\t\tcolor: white;\n",
        "\t\tborder: 1px solid grey;\n",
        "\t\tfont-size: 30px;\n",
        "\t}\n",
        "</style>\n",
        "<p> Make a Lamba function that returns all the elment that are greater than the immediate right </p>\n",
        "- Example numbers = [1, 3, 2, 4, 5, 0] <br>\n",
        "- listavg = greaterRight(numbers)  # 3, 5\n"
      ]
    },
    {
      "cell_type": "code",
      "execution_count": 149,
      "metadata": {
        "id": "C17nDTh7WKni",
        "colab": {
          "base_uri": "https://localhost:8080/"
        },
        "outputId": "d8717c5b-35ef-48e4-fffe-e0ead18def1c"
      },
      "outputs": [
        {
          "output_type": "stream",
          "name": "stdout",
          "text": [
            "<generator object greaterNum at 0x7da9b8da9300>\n"
          ]
        }
      ],
      "source": [
        "def greaterNum(numbers):\n",
        "  greater = []\n",
        "  i = 0\n",
        "  while i < 4:\n",
        "    if(mylst[i+1] > numbers[i]):\n",
        "      greater.append(numbers[i+1])\n",
        "    i = i +1\n",
        "\n",
        "  for v in numbers:\n",
        "    if v in greater:\n",
        "      yield v\n",
        "  return v\n",
        "\n",
        "\n",
        "numbers = [1,3,2,4,5,0]\n",
        "getGreater = lambda x, f: f(x)\n",
        "print(getGreater(numbers, greaterNum))"
      ]
    },
    {
      "cell_type": "markdown",
      "metadata": {
        "id": "c290SFNyWKni"
      },
      "source": [
        "***\n",
        "#### <p style=\"font-family: Arial; font-size:1.4em; background-color: yellow; color:black;\"> Problem #6.9 </p>\n",
        "\n",
        "<style>\n",
        "\tp {\n",
        "\t\tbackground-color: black;\n",
        "\t\tcolor: white;\n",
        "\t\tborder: 1px solid grey;\n",
        "\t\tfont-size: 30px;\n",
        "\t}\n",
        "</style>\n",
        "<p> Make a Lamba function that recevies two lists and determine the longer list. Return the longer list </p>\n",
        "- Example n1 = [1, 3, 2, 4, 5, 0] n2 = [1,2,3]<br>\n",
        "- longerlst = compareTwoList(n1, n2)  # Return n1\n"
      ]
    },
    {
      "cell_type": "code",
      "execution_count": 151,
      "metadata": {
        "id": "QHRwF0SLWKni",
        "outputId": "c9a981c9-e501-49be-ebf4-79346520633f",
        "colab": {
          "base_uri": "https://localhost:8080/"
        }
      },
      "outputs": [
        {
          "output_type": "stream",
          "name": "stdout",
          "text": [
            "[1, 3, 2, 4, 5, 0]\n"
          ]
        }
      ],
      "source": [
        "compareTwoList = lambda x,y: x if len(x) > len(y) else y\n",
        "\n",
        "n1 = [1,3,2,4,5,0]\n",
        "n2 = [1,2,3]\n",
        "\n",
        "longer = compareTwoList(n1, n2)\n",
        "print (longer)"
      ]
    }
  ],
  "metadata": {
    "kernelspec": {
      "display_name": "Python 3.9.13 ('base')",
      "language": "python",
      "name": "python3"
    },
    "language_info": {
      "codemirror_mode": {
        "name": "ipython",
        "version": 3
      },
      "file_extension": ".py",
      "mimetype": "text/x-python",
      "name": "python",
      "nbconvert_exporter": "python",
      "pygments_lexer": "ipython3",
      "version": "3.9.17"
    },
    "orig_nbformat": 4,
    "vscode": {
      "interpreter": {
        "hash": "32cd87c0c55905266dc8232ebf1148f668af0d9324249c125246585210a29cd6"
      }
    },
    "colab": {
      "provenance": []
    }
  },
  "nbformat": 4,
  "nbformat_minor": 0
}